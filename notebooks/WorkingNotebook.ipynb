{
 "cells": [
  {
   "cell_type": "markdown",
   "metadata": {},
   "source": [
    "# Business Scenario\n",
    "\n",
    "**You work in a data science team under one of the biggest Telecommunications company in the United States, TrustTelecom**. As the industry is highly competitive, and customers have the freedom to choose from a variety of service providers and actively switch from one to the next, making it incredibly challenging for companies to retain their customers. In fact, acquiring new customers is not only more difficult but also much more costly than maintaining existing customer relationships.\n",
    "\n",
    "**You have been tasked by higher management to build a customer churn prediction model** to identify customers who are likely to “churn”, i.e. switch to another service provider in the next month. This helps the customer care team reach out in a timely manner to understand user frustrations (if any), and extend the necessary discounts, offers and refunds in a bid to retain these customers in the long run.\n",
    "\n",
    "For this capstone project, you will work with a colleague to build a machine learning classifier that predicts if a particular customer is likely to churn. After selecting a model that optimizes for the **********************************Area Under Curve (AUC)********************************** metric, you shall next embark on the task of deploying this model for your company’s Customer Care team.\n",
    "\n",
    "This notebook is broken down with the following approach:\n",
    "1. Connecting to SQL\n",
    "2. EDA - Visualization.\n",
    "3. Feature Engineering\n",
    "4. Experimentation Modelling\n",
    "5. Hyperparameter Tuning.\n",
    "6. Exporting Pickle file."
   ]
  },
  {
   "cell_type": "markdown",
   "metadata": {},
   "source": [
    "## 1. Connecting to SQL"
   ]
  },
  {
   "cell_type": "code",
   "execution_count": 354,
   "metadata": {},
   "outputs": [
    {
     "data": {
      "text/plain": [
       "True"
      ]
     },
     "execution_count": 354,
     "metadata": {},
     "output_type": "execute_result"
    }
   ],
   "source": [
    "\n",
    "import pandas as pd\n",
    "import os\n",
    "from sqlalchemy import create_engine, text, inspect\n",
    "from dotenv import  load_dotenv, dotenv_values\n",
    "\n",
    "load_dotenv()\n",
    "\n"
   ]
  },
  {
   "cell_type": "code",
   "execution_count": 355,
   "metadata": {},
   "outputs": [],
   "source": [
    "ENDPOINT = os.getenv('DB_HOST')\n",
    "PORT = os.getenv('DB_PORT')\n",
    "USERNAME = os.getenv('DB_USER')\n",
    "PASSWORD = os.getenv('DB_PASSWORD')\n",
    "DBNAME = os.getenv('DB_NAME')"
   ]
  },
  {
   "cell_type": "code",
   "execution_count": 356,
   "metadata": {},
   "outputs": [],
   "source": [
    "database_conn = create_engine(f'mysql+pymysql://{USERNAME}:{PASSWORD}@{ENDPOINT}/{DBNAME}')"
   ]
  },
  {
   "cell_type": "code",
   "execution_count": 357,
   "metadata": {},
   "outputs": [
    {
     "data": {
      "text/html": [
       "<div>\n",
       "<style scoped>\n",
       "    .dataframe tbody tr th:only-of-type {\n",
       "        vertical-align: middle;\n",
       "    }\n",
       "\n",
       "    .dataframe tbody tr th {\n",
       "        vertical-align: top;\n",
       "    }\n",
       "\n",
       "    .dataframe thead th {\n",
       "        text-align: right;\n",
       "    }\n",
       "</style>\n",
       "<table border=\"1\" class=\"dataframe\">\n",
       "  <thead>\n",
       "    <tr style=\"text-align: right;\">\n",
       "      <th></th>\n",
       "      <th>account_id</th>\n",
       "      <th>customer_id</th>\n",
       "      <th>tenure_months</th>\n",
       "      <th>num_referrals</th>\n",
       "      <th>has_internet_service</th>\n",
       "      <th>internet_type</th>\n",
       "      <th>has_unlimited_data</th>\n",
       "      <th>has_phone_service</th>\n",
       "      <th>has_multiple_lines</th>\n",
       "      <th>has_premium_tech_support</th>\n",
       "      <th>has_online_security</th>\n",
       "      <th>has_online_backup</th>\n",
       "      <th>has_device_protection</th>\n",
       "      <th>contract_type</th>\n",
       "      <th>paperless_billing</th>\n",
       "      <th>payment_method</th>\n",
       "    </tr>\n",
       "  </thead>\n",
       "  <tbody>\n",
       "    <tr>\n",
       "      <th>0</th>\n",
       "      <td>AAJU-HMJLK</td>\n",
       "      <td>0334-ZFJSR</td>\n",
       "      <td>55</td>\n",
       "      <td>0</td>\n",
       "      <td>Yes</td>\n",
       "      <td>Cable</td>\n",
       "      <td>No</td>\n",
       "      <td>Yes</td>\n",
       "      <td>Yes</td>\n",
       "      <td>Yes</td>\n",
       "      <td>Yes</td>\n",
       "      <td>Yes</td>\n",
       "      <td>No</td>\n",
       "      <td>One Year</td>\n",
       "      <td>Yes</td>\n",
       "      <td>Credit Card</td>\n",
       "    </tr>\n",
       "  </tbody>\n",
       "</table>\n",
       "</div>"
      ],
      "text/plain": [
       "   account_id customer_id  tenure_months  num_referrals has_internet_service  \\\n",
       "0  AAJU-HMJLK  0334-ZFJSR             55              0                  Yes   \n",
       "\n",
       "  internet_type has_unlimited_data has_phone_service has_multiple_lines  \\\n",
       "0         Cable                 No               Yes                Yes   \n",
       "\n",
       "  has_premium_tech_support has_online_security has_online_backup  \\\n",
       "0                      Yes                 Yes               Yes   \n",
       "\n",
       "  has_device_protection contract_type paperless_billing payment_method  \n",
       "0                    No      One Year               Yes    Credit Card  "
      ]
     },
     "execution_count": 357,
     "metadata": {},
     "output_type": "execute_result"
    }
   ],
   "source": [
    "query = \"\"\"\n",
    "    SELECT * FROM account\n",
    "    LIMIT 1;\n",
    "\"\"\"\n",
    "\n",
    "df = pd.read_sql(query, database_conn)\n",
    "df"
   ]
  },
  {
   "cell_type": "code",
   "execution_count": 358,
   "metadata": {},
   "outputs": [
    {
     "data": {
      "text/html": [
       "<div>\n",
       "<style scoped>\n",
       "    .dataframe tbody tr th:only-of-type {\n",
       "        vertical-align: middle;\n",
       "    }\n",
       "\n",
       "    .dataframe tbody tr th {\n",
       "        vertical-align: top;\n",
       "    }\n",
       "\n",
       "    .dataframe thead th {\n",
       "        text-align: right;\n",
       "    }\n",
       "</style>\n",
       "<table border=\"1\" class=\"dataframe\">\n",
       "  <thead>\n",
       "    <tr style=\"text-align: right;\">\n",
       "      <th></th>\n",
       "      <th>customer_id</th>\n",
       "      <th>status</th>\n",
       "      <th>churn_label</th>\n",
       "      <th>churn_category</th>\n",
       "      <th>churn_reason</th>\n",
       "      <th>customer_id</th>\n",
       "      <th>gender</th>\n",
       "      <th>age</th>\n",
       "      <th>senior_citizen</th>\n",
       "      <th>married</th>\n",
       "      <th>...</th>\n",
       "      <th>stream_music</th>\n",
       "      <th>total_monthly_fee</th>\n",
       "      <th>total_charges_quarter</th>\n",
       "      <th>total_refunds</th>\n",
       "      <th>area_id</th>\n",
       "      <th>zip_code</th>\n",
       "      <th>city</th>\n",
       "      <th>latitutde</th>\n",
       "      <th>longitude</th>\n",
       "      <th>population</th>\n",
       "    </tr>\n",
       "  </thead>\n",
       "  <tbody>\n",
       "    <tr>\n",
       "      <th>0</th>\n",
       "      <td>0013-EXCHZ</td>\n",
       "      <td>Churned</td>\n",
       "      <td>Yes</td>\n",
       "      <td>Dissatisfaction</td>\n",
       "      <td>Network reliability</td>\n",
       "      <td>0013-EXCHZ</td>\n",
       "      <td>Female</td>\n",
       "      <td>75</td>\n",
       "      <td>Yes</td>\n",
       "      <td>Yes</td>\n",
       "      <td>...</td>\n",
       "      <td>No</td>\n",
       "      <td>83.90</td>\n",
       "      <td>267.40</td>\n",
       "      <td>0.0</td>\n",
       "      <td>607</td>\n",
       "      <td>93010</td>\n",
       "      <td>Camarillo</td>\n",
       "      <td>34.227846</td>\n",
       "      <td>-119.079903</td>\n",
       "      <td>42853</td>\n",
       "    </tr>\n",
       "    <tr>\n",
       "      <th>1</th>\n",
       "      <td>0014-BMAQU</td>\n",
       "      <td>Stayed</td>\n",
       "      <td>No</td>\n",
       "      <td></td>\n",
       "      <td></td>\n",
       "      <td>0014-BMAQU</td>\n",
       "      <td>Male</td>\n",
       "      <td>52</td>\n",
       "      <td>No</td>\n",
       "      <td>Yes</td>\n",
       "      <td>...</td>\n",
       "      <td>No</td>\n",
       "      <td>84.65</td>\n",
       "      <td>5377.80</td>\n",
       "      <td>0.0</td>\n",
       "      <td>963</td>\n",
       "      <td>94558</td>\n",
       "      <td>Napa</td>\n",
       "      <td>38.489789</td>\n",
       "      <td>-122.270110</td>\n",
       "      <td>63947</td>\n",
       "    </tr>\n",
       "    <tr>\n",
       "      <th>2</th>\n",
       "      <td>0016-QLJIS</td>\n",
       "      <td>Stayed</td>\n",
       "      <td>No</td>\n",
       "      <td></td>\n",
       "      <td></td>\n",
       "      <td>0016-QLJIS</td>\n",
       "      <td>Female</td>\n",
       "      <td>43</td>\n",
       "      <td>No</td>\n",
       "      <td>Yes</td>\n",
       "      <td>...</td>\n",
       "      <td>Yes</td>\n",
       "      <td>90.45</td>\n",
       "      <td>5957.90</td>\n",
       "      <td>0.0</td>\n",
       "      <td>1390</td>\n",
       "      <td>95681</td>\n",
       "      <td>Sheridan</td>\n",
       "      <td>38.984756</td>\n",
       "      <td>-121.345074</td>\n",
       "      <td>1219</td>\n",
       "    </tr>\n",
       "    <tr>\n",
       "      <th>3</th>\n",
       "      <td>0019-EFAEP</td>\n",
       "      <td>Stayed</td>\n",
       "      <td>No</td>\n",
       "      <td></td>\n",
       "      <td></td>\n",
       "      <td>0019-EFAEP</td>\n",
       "      <td>Female</td>\n",
       "      <td>32</td>\n",
       "      <td>No</td>\n",
       "      <td>No</td>\n",
       "      <td>...</td>\n",
       "      <td>No</td>\n",
       "      <td>101.30</td>\n",
       "      <td>7261.25</td>\n",
       "      <td>0.0</td>\n",
       "      <td>303</td>\n",
       "      <td>91942</td>\n",
       "      <td>La Mesa</td>\n",
       "      <td>32.782501</td>\n",
       "      <td>-117.016110</td>\n",
       "      <td>24005</td>\n",
       "    </tr>\n",
       "    <tr>\n",
       "      <th>4</th>\n",
       "      <td>0019-GFNTW</td>\n",
       "      <td>Stayed</td>\n",
       "      <td>No</td>\n",
       "      <td></td>\n",
       "      <td></td>\n",
       "      <td>0019-GFNTW</td>\n",
       "      <td>Female</td>\n",
       "      <td>39</td>\n",
       "      <td>No</td>\n",
       "      <td>No</td>\n",
       "      <td>...</td>\n",
       "      <td>No</td>\n",
       "      <td>45.05</td>\n",
       "      <td>2560.10</td>\n",
       "      <td>0.0</td>\n",
       "      <td>716</td>\n",
       "      <td>93441</td>\n",
       "      <td>Los Olivos</td>\n",
       "      <td>34.704340</td>\n",
       "      <td>-120.026090</td>\n",
       "      <td>1317</td>\n",
       "    </tr>\n",
       "  </tbody>\n",
       "</table>\n",
       "<p>5 rows × 44 columns</p>\n",
       "</div>"
      ],
      "text/plain": [
       "  customer_id   status churn_label   churn_category         churn_reason  \\\n",
       "0  0013-EXCHZ  Churned         Yes  Dissatisfaction  Network reliability   \n",
       "1  0014-BMAQU   Stayed          No                                         \n",
       "2  0016-QLJIS   Stayed          No                                         \n",
       "3  0019-EFAEP   Stayed          No                                         \n",
       "4  0019-GFNTW   Stayed          No                                         \n",
       "\n",
       "  customer_id  gender  age senior_citizen married  ...  stream_music  \\\n",
       "0  0013-EXCHZ  Female   75            Yes     Yes  ...            No   \n",
       "1  0014-BMAQU    Male   52             No     Yes  ...            No   \n",
       "2  0016-QLJIS  Female   43             No     Yes  ...           Yes   \n",
       "3  0019-EFAEP  Female   32             No      No  ...            No   \n",
       "4  0019-GFNTW  Female   39             No      No  ...            No   \n",
       "\n",
       "   total_monthly_fee total_charges_quarter total_refunds  area_id  zip_code  \\\n",
       "0              83.90                267.40           0.0      607     93010   \n",
       "1              84.65               5377.80           0.0      963     94558   \n",
       "2              90.45               5957.90           0.0     1390     95681   \n",
       "3             101.30               7261.25           0.0      303     91942   \n",
       "4              45.05               2560.10           0.0      716     93441   \n",
       "\n",
       "         city  latitutde   longitude population  \n",
       "0   Camarillo  34.227846 -119.079903      42853  \n",
       "1        Napa  38.489789 -122.270110      63947  \n",
       "2    Sheridan  38.984756 -121.345074       1219  \n",
       "3     La Mesa  32.782501 -117.016110      24005  \n",
       "4  Los Olivos  34.704340 -120.026090       1317  \n",
       "\n",
       "[5 rows x 44 columns]"
      ]
     },
     "execution_count": 358,
     "metadata": {},
     "output_type": "execute_result"
    }
   ],
   "source": [
    "query = \"\"\"\n",
    "SELECT *\n",
    "FROM churn_status AS cs\n",
    "JOIN customer AS c ON cs.customer_id = c.customer_id\n",
    "JOIN account AS a ON cs.customer_id = a.customer_id\n",
    "JOIN account_usage AS au ON a.account_id = au.account_id\n",
    "JOIN city AS city ON c.zip_code = city.zip_code\n",
    "Limit 5\n",
    "\n",
    "\"\"\"\n",
    "\n",
    "df = pd.read_sql(query, database_conn)\n",
    "df"
   ]
  },
  {
   "cell_type": "code",
   "execution_count": 359,
   "metadata": {},
   "outputs": [
    {
     "data": {
      "text/html": [
       "<div>\n",
       "<style scoped>\n",
       "    .dataframe tbody tr th:only-of-type {\n",
       "        vertical-align: middle;\n",
       "    }\n",
       "\n",
       "    .dataframe tbody tr th {\n",
       "        vertical-align: top;\n",
       "    }\n",
       "\n",
       "    .dataframe thead th {\n",
       "        text-align: right;\n",
       "    }\n",
       "</style>\n",
       "<table border=\"1\" class=\"dataframe\">\n",
       "  <thead>\n",
       "    <tr style=\"text-align: right;\">\n",
       "      <th></th>\n",
       "      <th>customer_id</th>\n",
       "      <th>status</th>\n",
       "      <th>churn_label</th>\n",
       "      <th>churn_category</th>\n",
       "      <th>churn_reason</th>\n",
       "      <th>gender</th>\n",
       "      <th>age</th>\n",
       "      <th>senior_citizen</th>\n",
       "      <th>married</th>\n",
       "      <th>num_dependents</th>\n",
       "      <th>...</th>\n",
       "      <th>avg_gb_download_monthly</th>\n",
       "      <th>stream_tv</th>\n",
       "      <th>stream_movie</th>\n",
       "      <th>stream_music</th>\n",
       "      <th>total_monthly_fee</th>\n",
       "      <th>total_charges_quarter</th>\n",
       "      <th>total_refunds</th>\n",
       "      <th>area_id</th>\n",
       "      <th>population</th>\n",
       "      <th>city</th>\n",
       "    </tr>\n",
       "  </thead>\n",
       "  <tbody>\n",
       "    <tr>\n",
       "      <th>0</th>\n",
       "      <td>0013-EXCHZ</td>\n",
       "      <td>Churned</td>\n",
       "      <td>Yes</td>\n",
       "      <td>Dissatisfaction</td>\n",
       "      <td>Network reliability</td>\n",
       "      <td>Female</td>\n",
       "      <td>75</td>\n",
       "      <td>Yes</td>\n",
       "      <td>Yes</td>\n",
       "      <td>0</td>\n",
       "      <td>...</td>\n",
       "      <td>11</td>\n",
       "      <td>Yes</td>\n",
       "      <td>No</td>\n",
       "      <td>No</td>\n",
       "      <td>83.90</td>\n",
       "      <td>267.40</td>\n",
       "      <td>0.00</td>\n",
       "      <td>607</td>\n",
       "      <td>42853</td>\n",
       "      <td>Camarillo</td>\n",
       "    </tr>\n",
       "    <tr>\n",
       "      <th>1</th>\n",
       "      <td>0014-BMAQU</td>\n",
       "      <td>Stayed</td>\n",
       "      <td>No</td>\n",
       "      <td></td>\n",
       "      <td></td>\n",
       "      <td>Male</td>\n",
       "      <td>52</td>\n",
       "      <td>No</td>\n",
       "      <td>Yes</td>\n",
       "      <td>0</td>\n",
       "      <td>...</td>\n",
       "      <td>7</td>\n",
       "      <td>No</td>\n",
       "      <td>No</td>\n",
       "      <td>No</td>\n",
       "      <td>84.65</td>\n",
       "      <td>5377.80</td>\n",
       "      <td>0.00</td>\n",
       "      <td>963</td>\n",
       "      <td>63947</td>\n",
       "      <td>Napa</td>\n",
       "    </tr>\n",
       "    <tr>\n",
       "      <th>2</th>\n",
       "      <td>0016-QLJIS</td>\n",
       "      <td>Stayed</td>\n",
       "      <td>No</td>\n",
       "      <td></td>\n",
       "      <td></td>\n",
       "      <td>Female</td>\n",
       "      <td>43</td>\n",
       "      <td>No</td>\n",
       "      <td>Yes</td>\n",
       "      <td>1</td>\n",
       "      <td>...</td>\n",
       "      <td>14</td>\n",
       "      <td>Yes</td>\n",
       "      <td>Yes</td>\n",
       "      <td>Yes</td>\n",
       "      <td>90.45</td>\n",
       "      <td>5957.90</td>\n",
       "      <td>0.00</td>\n",
       "      <td>1390</td>\n",
       "      <td>1219</td>\n",
       "      <td>Sheridan</td>\n",
       "    </tr>\n",
       "    <tr>\n",
       "      <th>3</th>\n",
       "      <td>0019-EFAEP</td>\n",
       "      <td>Stayed</td>\n",
       "      <td>No</td>\n",
       "      <td></td>\n",
       "      <td></td>\n",
       "      <td>Female</td>\n",
       "      <td>32</td>\n",
       "      <td>No</td>\n",
       "      <td>No</td>\n",
       "      <td>0</td>\n",
       "      <td>...</td>\n",
       "      <td>16</td>\n",
       "      <td>Yes</td>\n",
       "      <td>No</td>\n",
       "      <td>No</td>\n",
       "      <td>101.30</td>\n",
       "      <td>7261.25</td>\n",
       "      <td>0.00</td>\n",
       "      <td>303</td>\n",
       "      <td>24005</td>\n",
       "      <td>La Mesa</td>\n",
       "    </tr>\n",
       "    <tr>\n",
       "      <th>4</th>\n",
       "      <td>0019-GFNTW</td>\n",
       "      <td>Stayed</td>\n",
       "      <td>No</td>\n",
       "      <td></td>\n",
       "      <td></td>\n",
       "      <td>Female</td>\n",
       "      <td>39</td>\n",
       "      <td>No</td>\n",
       "      <td>No</td>\n",
       "      <td>0</td>\n",
       "      <td>...</td>\n",
       "      <td>19</td>\n",
       "      <td>No</td>\n",
       "      <td>No</td>\n",
       "      <td>No</td>\n",
       "      <td>45.05</td>\n",
       "      <td>2560.10</td>\n",
       "      <td>0.00</td>\n",
       "      <td>716</td>\n",
       "      <td>1317</td>\n",
       "      <td>Los Olivos</td>\n",
       "    </tr>\n",
       "    <tr>\n",
       "      <th>...</th>\n",
       "      <td>...</td>\n",
       "      <td>...</td>\n",
       "      <td>...</td>\n",
       "      <td>...</td>\n",
       "      <td>...</td>\n",
       "      <td>...</td>\n",
       "      <td>...</td>\n",
       "      <td>...</td>\n",
       "      <td>...</td>\n",
       "      <td>...</td>\n",
       "      <td>...</td>\n",
       "      <td>...</td>\n",
       "      <td>...</td>\n",
       "      <td>...</td>\n",
       "      <td>...</td>\n",
       "      <td>...</td>\n",
       "      <td>...</td>\n",
       "      <td>...</td>\n",
       "      <td>...</td>\n",
       "      <td>...</td>\n",
       "      <td>...</td>\n",
       "    </tr>\n",
       "    <tr>\n",
       "      <th>7038</th>\n",
       "      <td>9412-ARGBX</td>\n",
       "      <td>Churned</td>\n",
       "      <td>Yes</td>\n",
       "      <td>Competitor</td>\n",
       "      <td>Competitor made better offer</td>\n",
       "      <td>Female</td>\n",
       "      <td>47</td>\n",
       "      <td>No</td>\n",
       "      <td>No</td>\n",
       "      <td>0</td>\n",
       "      <td>...</td>\n",
       "      <td>29</td>\n",
       "      <td>Yes</td>\n",
       "      <td>No</td>\n",
       "      <td>No</td>\n",
       "      <td>95.50</td>\n",
       "      <td>4627.85</td>\n",
       "      <td>0.00</td>\n",
       "      <td>72</td>\n",
       "      <td>40152</td>\n",
       "      <td>Downey</td>\n",
       "    </tr>\n",
       "    <tr>\n",
       "      <th>7039</th>\n",
       "      <td>9522-ZSINC</td>\n",
       "      <td>Stayed</td>\n",
       "      <td>No</td>\n",
       "      <td></td>\n",
       "      <td></td>\n",
       "      <td>Male</td>\n",
       "      <td>34</td>\n",
       "      <td>No</td>\n",
       "      <td>No</td>\n",
       "      <td>0</td>\n",
       "      <td>...</td>\n",
       "      <td>0</td>\n",
       "      <td>No</td>\n",
       "      <td>No</td>\n",
       "      <td>No</td>\n",
       "      <td>19.95</td>\n",
       "      <td>253.80</td>\n",
       "      <td>0.00</td>\n",
       "      <td>1226</td>\n",
       "      <td>25718</td>\n",
       "      <td>Santa Rosa</td>\n",
       "    </tr>\n",
       "    <tr>\n",
       "      <th>7040</th>\n",
       "      <td>9524-EGPJC</td>\n",
       "      <td>Churned</td>\n",
       "      <td>Yes</td>\n",
       "      <td>Competitor</td>\n",
       "      <td>Competitor offered higher download speeds</td>\n",
       "      <td>Female</td>\n",
       "      <td>33</td>\n",
       "      <td>No</td>\n",
       "      <td>No</td>\n",
       "      <td>0</td>\n",
       "      <td>...</td>\n",
       "      <td>19</td>\n",
       "      <td>No</td>\n",
       "      <td>Yes</td>\n",
       "      <td>Yes</td>\n",
       "      <td>90.10</td>\n",
       "      <td>1612.75</td>\n",
       "      <td>48.26</td>\n",
       "      <td>991</td>\n",
       "      <td>18024</td>\n",
       "      <td>Walnut Creek</td>\n",
       "    </tr>\n",
       "    <tr>\n",
       "      <th>7041</th>\n",
       "      <td>9975-SKRNR</td>\n",
       "      <td>Joined</td>\n",
       "      <td>No</td>\n",
       "      <td></td>\n",
       "      <td></td>\n",
       "      <td>Male</td>\n",
       "      <td>24</td>\n",
       "      <td>No</td>\n",
       "      <td>No</td>\n",
       "      <td>0</td>\n",
       "      <td>...</td>\n",
       "      <td>0</td>\n",
       "      <td>No</td>\n",
       "      <td>No</td>\n",
       "      <td>No</td>\n",
       "      <td>18.90</td>\n",
       "      <td>18.90</td>\n",
       "      <td>0.00</td>\n",
       "      <td>1611</td>\n",
       "      <td>227</td>\n",
       "      <td>Sierraville</td>\n",
       "    </tr>\n",
       "    <tr>\n",
       "      <th>7042</th>\n",
       "      <td>9992-UJOEL</td>\n",
       "      <td>Joined</td>\n",
       "      <td>No</td>\n",
       "      <td></td>\n",
       "      <td></td>\n",
       "      <td>Male</td>\n",
       "      <td>22</td>\n",
       "      <td>No</td>\n",
       "      <td>No</td>\n",
       "      <td>0</td>\n",
       "      <td>...</td>\n",
       "      <td>51</td>\n",
       "      <td>No</td>\n",
       "      <td>No</td>\n",
       "      <td>No</td>\n",
       "      <td>50.30</td>\n",
       "      <td>92.75</td>\n",
       "      <td>0.00</td>\n",
       "      <td>1242</td>\n",
       "      <td>383</td>\n",
       "      <td>Elk</td>\n",
       "    </tr>\n",
       "  </tbody>\n",
       "</table>\n",
       "<p>7043 rows × 38 columns</p>\n",
       "</div>"
      ],
      "text/plain": [
       "     customer_id   status churn_label   churn_category  \\\n",
       "0     0013-EXCHZ  Churned         Yes  Dissatisfaction   \n",
       "1     0014-BMAQU   Stayed          No                    \n",
       "2     0016-QLJIS   Stayed          No                    \n",
       "3     0019-EFAEP   Stayed          No                    \n",
       "4     0019-GFNTW   Stayed          No                    \n",
       "...          ...      ...         ...              ...   \n",
       "7038  9412-ARGBX  Churned         Yes       Competitor   \n",
       "7039  9522-ZSINC   Stayed          No                    \n",
       "7040  9524-EGPJC  Churned         Yes       Competitor   \n",
       "7041  9975-SKRNR   Joined          No                    \n",
       "7042  9992-UJOEL   Joined          No                    \n",
       "\n",
       "                                   churn_reason  gender  age senior_citizen  \\\n",
       "0                           Network reliability  Female   75            Yes   \n",
       "1                                                  Male   52             No   \n",
       "2                                                Female   43             No   \n",
       "3                                                Female   32             No   \n",
       "4                                                Female   39             No   \n",
       "...                                         ...     ...  ...            ...   \n",
       "7038               Competitor made better offer  Female   47             No   \n",
       "7039                                               Male   34             No   \n",
       "7040  Competitor offered higher download speeds  Female   33             No   \n",
       "7041                                               Male   24             No   \n",
       "7042                                               Male   22             No   \n",
       "\n",
       "     married  num_dependents  ...  avg_gb_download_monthly stream_tv  \\\n",
       "0        Yes               0  ...                       11       Yes   \n",
       "1        Yes               0  ...                        7        No   \n",
       "2        Yes               1  ...                       14       Yes   \n",
       "3         No               0  ...                       16       Yes   \n",
       "4         No               0  ...                       19        No   \n",
       "...      ...             ...  ...                      ...       ...   \n",
       "7038      No               0  ...                       29       Yes   \n",
       "7039      No               0  ...                        0        No   \n",
       "7040      No               0  ...                       19        No   \n",
       "7041      No               0  ...                        0        No   \n",
       "7042      No               0  ...                       51        No   \n",
       "\n",
       "      stream_movie  stream_music total_monthly_fee total_charges_quarter  \\\n",
       "0               No            No             83.90                267.40   \n",
       "1               No            No             84.65               5377.80   \n",
       "2              Yes           Yes             90.45               5957.90   \n",
       "3               No            No            101.30               7261.25   \n",
       "4               No            No             45.05               2560.10   \n",
       "...            ...           ...               ...                   ...   \n",
       "7038            No            No             95.50               4627.85   \n",
       "7039            No            No             19.95                253.80   \n",
       "7040           Yes           Yes             90.10               1612.75   \n",
       "7041            No            No             18.90                 18.90   \n",
       "7042            No            No             50.30                 92.75   \n",
       "\n",
       "     total_refunds area_id population          city  \n",
       "0             0.00     607      42853     Camarillo  \n",
       "1             0.00     963      63947          Napa  \n",
       "2             0.00    1390       1219      Sheridan  \n",
       "3             0.00     303      24005       La Mesa  \n",
       "4             0.00     716       1317    Los Olivos  \n",
       "...            ...     ...        ...           ...  \n",
       "7038          0.00      72      40152        Downey  \n",
       "7039          0.00    1226      25718    Santa Rosa  \n",
       "7040         48.26     991      18024  Walnut Creek  \n",
       "7041          0.00    1611        227   Sierraville  \n",
       "7042          0.00    1242        383           Elk  \n",
       "\n",
       "[7043 rows x 38 columns]"
      ]
     },
     "execution_count": 359,
     "metadata": {},
     "output_type": "execute_result"
    }
   ],
   "source": [
    "query = \"\"\"\n",
    "SELECT \n",
    "cs.customer_id, cs.status, cs.churn_label, cs.churn_category, cs.churn_reason, \n",
    "c.gender, c.age, c.senior_citizen, c.married, c.num_dependents, c.zip_code, \n",
    "a.account_id, a.tenure_months, a.num_referrals, a.has_internet_service, a.internet_type, a.has_unlimited_data, a.has_phone_service, a.has_multiple_lines, a.has_premium_tech_support,\n",
    "a.has_online_security,a.has_online_backup, a.has_device_protection, a.contract_type, a.paperless_billing, a.payment_method,\n",
    "au.avg_long_distance_fee_monthly, au.total_long_distance_fee, au.avg_gb_download_monthly, au.stream_tv, au.stream_movie, au.stream_music, au.total_monthly_fee, au.total_charges_quarter, au.total_refunds,\n",
    "city.area_id, city.population, city.city\n",
    "\n",
    "FROM churn_status AS cs\n",
    "JOIN customer AS c ON cs.customer_id = c.customer_id\n",
    "JOIN account AS a ON cs.customer_id = a.customer_id\n",
    "JOIN account_usage AS au ON a.account_id = au.account_id\n",
    "JOIN city AS city ON c.zip_code = city.zip_code\n",
    "\n",
    "\"\"\"\n",
    "\n",
    "df = pd.read_sql(query, database_conn)\n",
    "df"
   ]
  },
  {
   "cell_type": "code",
   "execution_count": 360,
   "metadata": {},
   "outputs": [
    {
     "data": {
      "text/plain": [
       "Index(['customer_id', 'status', 'churn_label', 'churn_category',\n",
       "       'churn_reason', 'gender', 'age', 'senior_citizen', 'married',\n",
       "       'num_dependents', 'zip_code', 'account_id', 'tenure_months',\n",
       "       'num_referrals', 'has_internet_service', 'internet_type',\n",
       "       'has_unlimited_data', 'has_phone_service', 'has_multiple_lines',\n",
       "       'has_premium_tech_support', 'has_online_security', 'has_online_backup',\n",
       "       'has_device_protection', 'contract_type', 'paperless_billing',\n",
       "       'payment_method', 'avg_long_distance_fee_monthly',\n",
       "       'total_long_distance_fee', 'avg_gb_download_monthly', 'stream_tv',\n",
       "       'stream_movie', 'stream_music', 'total_monthly_fee',\n",
       "       'total_charges_quarter', 'total_refunds', 'area_id', 'population',\n",
       "       'city'],\n",
       "      dtype='object')"
      ]
     },
     "execution_count": 360,
     "metadata": {},
     "output_type": "execute_result"
    }
   ],
   "source": [
    "df.columns"
   ]
  },
  {
   "cell_type": "code",
   "execution_count": 361,
   "metadata": {},
   "outputs": [
    {
     "data": {
      "text/plain": [
       "(7043, 38)"
      ]
     },
     "execution_count": 361,
     "metadata": {},
     "output_type": "execute_result"
    }
   ],
   "source": [
    "df.shape"
   ]
  },
  {
   "cell_type": "code",
   "execution_count": 362,
   "metadata": {},
   "outputs": [
    {
     "name": "stdout",
     "output_type": "stream",
     "text": [
      "<class 'pandas.core.frame.DataFrame'>\n",
      "RangeIndex: 7043 entries, 0 to 7042\n",
      "Data columns (total 38 columns):\n",
      " #   Column                         Non-Null Count  Dtype  \n",
      "---  ------                         --------------  -----  \n",
      " 0   customer_id                    7043 non-null   object \n",
      " 1   status                         7043 non-null   object \n",
      " 2   churn_label                    7043 non-null   object \n",
      " 3   churn_category                 7043 non-null   object \n",
      " 4   churn_reason                   7043 non-null   object \n",
      " 5   gender                         7043 non-null   object \n",
      " 6   age                            7043 non-null   int64  \n",
      " 7   senior_citizen                 7043 non-null   object \n",
      " 8   married                        7043 non-null   object \n",
      " 9   num_dependents                 7043 non-null   int64  \n",
      " 10  zip_code                       7043 non-null   int64  \n",
      " 11  account_id                     7043 non-null   object \n",
      " 12  tenure_months                  7043 non-null   int64  \n",
      " 13  num_referrals                  7043 non-null   int64  \n",
      " 14  has_internet_service           7043 non-null   object \n",
      " 15  internet_type                  7043 non-null   object \n",
      " 16  has_unlimited_data             7043 non-null   object \n",
      " 17  has_phone_service              7043 non-null   object \n",
      " 18  has_multiple_lines             7043 non-null   object \n",
      " 19  has_premium_tech_support       7043 non-null   object \n",
      " 20  has_online_security            7043 non-null   object \n",
      " 21  has_online_backup              7043 non-null   object \n",
      " 22  has_device_protection          7043 non-null   object \n",
      " 23  contract_type                  7043 non-null   object \n",
      " 24  paperless_billing              7043 non-null   object \n",
      " 25  payment_method                 7043 non-null   object \n",
      " 26  avg_long_distance_fee_monthly  7043 non-null   float64\n",
      " 27  total_long_distance_fee        7043 non-null   float64\n",
      " 28  avg_gb_download_monthly        7043 non-null   int64  \n",
      " 29  stream_tv                      7043 non-null   object \n",
      " 30  stream_movie                   7043 non-null   object \n",
      " 31  stream_music                   7043 non-null   object \n",
      " 32  total_monthly_fee              7043 non-null   float64\n",
      " 33  total_charges_quarter          7043 non-null   float64\n",
      " 34  total_refunds                  7043 non-null   float64\n",
      " 35  area_id                        7043 non-null   int64  \n",
      " 36  population                     7043 non-null   int64  \n",
      " 37  city                           7043 non-null   object \n",
      "dtypes: float64(5), int64(8), object(25)\n",
      "memory usage: 2.0+ MB\n"
     ]
    }
   ],
   "source": [
    "df.info()"
   ]
  },
  {
   "cell_type": "code",
   "execution_count": 363,
   "metadata": {},
   "outputs": [
    {
     "data": {
      "text/html": [
       "<div>\n",
       "<style scoped>\n",
       "    .dataframe tbody tr th:only-of-type {\n",
       "        vertical-align: middle;\n",
       "    }\n",
       "\n",
       "    .dataframe tbody tr th {\n",
       "        vertical-align: top;\n",
       "    }\n",
       "\n",
       "    .dataframe thead th {\n",
       "        text-align: right;\n",
       "    }\n",
       "</style>\n",
       "<table border=\"1\" class=\"dataframe\">\n",
       "  <thead>\n",
       "    <tr style=\"text-align: right;\">\n",
       "      <th></th>\n",
       "      <th>count</th>\n",
       "      <th>mean</th>\n",
       "      <th>std</th>\n",
       "      <th>min</th>\n",
       "      <th>25%</th>\n",
       "      <th>50%</th>\n",
       "      <th>75%</th>\n",
       "      <th>max</th>\n",
       "    </tr>\n",
       "  </thead>\n",
       "  <tbody>\n",
       "    <tr>\n",
       "      <th>age</th>\n",
       "      <td>7043.0</td>\n",
       "      <td>46.509726</td>\n",
       "      <td>16.750352</td>\n",
       "      <td>19.00</td>\n",
       "      <td>32.000</td>\n",
       "      <td>46.00</td>\n",
       "      <td>60.000</td>\n",
       "      <td>80.00</td>\n",
       "    </tr>\n",
       "    <tr>\n",
       "      <th>num_dependents</th>\n",
       "      <td>7043.0</td>\n",
       "      <td>0.468692</td>\n",
       "      <td>0.962802</td>\n",
       "      <td>0.00</td>\n",
       "      <td>0.000</td>\n",
       "      <td>0.00</td>\n",
       "      <td>0.000</td>\n",
       "      <td>9.00</td>\n",
       "    </tr>\n",
       "    <tr>\n",
       "      <th>zip_code</th>\n",
       "      <td>7043.0</td>\n",
       "      <td>93486.070567</td>\n",
       "      <td>1856.767505</td>\n",
       "      <td>90001.00</td>\n",
       "      <td>92101.000</td>\n",
       "      <td>93518.00</td>\n",
       "      <td>95329.000</td>\n",
       "      <td>96150.00</td>\n",
       "    </tr>\n",
       "    <tr>\n",
       "      <th>tenure_months</th>\n",
       "      <td>7043.0</td>\n",
       "      <td>32.386767</td>\n",
       "      <td>24.542061</td>\n",
       "      <td>1.00</td>\n",
       "      <td>9.000</td>\n",
       "      <td>29.00</td>\n",
       "      <td>55.000</td>\n",
       "      <td>72.00</td>\n",
       "    </tr>\n",
       "    <tr>\n",
       "      <th>num_referrals</th>\n",
       "      <td>7043.0</td>\n",
       "      <td>1.951867</td>\n",
       "      <td>3.001199</td>\n",
       "      <td>0.00</td>\n",
       "      <td>0.000</td>\n",
       "      <td>0.00</td>\n",
       "      <td>3.000</td>\n",
       "      <td>11.00</td>\n",
       "    </tr>\n",
       "    <tr>\n",
       "      <th>avg_long_distance_fee_monthly</th>\n",
       "      <td>7043.0</td>\n",
       "      <td>22.958954</td>\n",
       "      <td>15.448113</td>\n",
       "      <td>0.00</td>\n",
       "      <td>9.210</td>\n",
       "      <td>22.89</td>\n",
       "      <td>36.395</td>\n",
       "      <td>49.99</td>\n",
       "    </tr>\n",
       "    <tr>\n",
       "      <th>total_long_distance_fee</th>\n",
       "      <td>7043.0</td>\n",
       "      <td>749.099262</td>\n",
       "      <td>846.660055</td>\n",
       "      <td>0.00</td>\n",
       "      <td>70.545</td>\n",
       "      <td>401.44</td>\n",
       "      <td>1191.100</td>\n",
       "      <td>3564.72</td>\n",
       "    </tr>\n",
       "    <tr>\n",
       "      <th>avg_gb_download_monthly</th>\n",
       "      <td>7043.0</td>\n",
       "      <td>20.515405</td>\n",
       "      <td>20.418940</td>\n",
       "      <td>0.00</td>\n",
       "      <td>3.000</td>\n",
       "      <td>17.00</td>\n",
       "      <td>27.000</td>\n",
       "      <td>85.00</td>\n",
       "    </tr>\n",
       "    <tr>\n",
       "      <th>total_monthly_fee</th>\n",
       "      <td>7043.0</td>\n",
       "      <td>64.761692</td>\n",
       "      <td>30.090047</td>\n",
       "      <td>18.25</td>\n",
       "      <td>35.500</td>\n",
       "      <td>70.35</td>\n",
       "      <td>89.850</td>\n",
       "      <td>118.75</td>\n",
       "    </tr>\n",
       "    <tr>\n",
       "      <th>total_charges_quarter</th>\n",
       "      <td>7043.0</td>\n",
       "      <td>2280.381264</td>\n",
       "      <td>2266.220462</td>\n",
       "      <td>18.80</td>\n",
       "      <td>400.150</td>\n",
       "      <td>1394.55</td>\n",
       "      <td>3786.600</td>\n",
       "      <td>8684.80</td>\n",
       "    </tr>\n",
       "    <tr>\n",
       "      <th>total_refunds</th>\n",
       "      <td>7043.0</td>\n",
       "      <td>1.962182</td>\n",
       "      <td>7.902614</td>\n",
       "      <td>0.00</td>\n",
       "      <td>0.000</td>\n",
       "      <td>0.00</td>\n",
       "      <td>0.000</td>\n",
       "      <td>49.79</td>\n",
       "    </tr>\n",
       "    <tr>\n",
       "      <th>area_id</th>\n",
       "      <td>7043.0</td>\n",
       "      <td>767.045577</td>\n",
       "      <td>475.486842</td>\n",
       "      <td>1.00</td>\n",
       "      <td>350.000</td>\n",
       "      <td>741.00</td>\n",
       "      <td>1182.000</td>\n",
       "      <td>1626.00</td>\n",
       "    </tr>\n",
       "    <tr>\n",
       "      <th>population</th>\n",
       "      <td>7043.0</td>\n",
       "      <td>22139.603294</td>\n",
       "      <td>21152.392837</td>\n",
       "      <td>11.00</td>\n",
       "      <td>2344.000</td>\n",
       "      <td>17554.00</td>\n",
       "      <td>36125.000</td>\n",
       "      <td>105285.00</td>\n",
       "    </tr>\n",
       "  </tbody>\n",
       "</table>\n",
       "</div>"
      ],
      "text/plain": [
       "                                count          mean           std       min  \\\n",
       "age                            7043.0     46.509726     16.750352     19.00   \n",
       "num_dependents                 7043.0      0.468692      0.962802      0.00   \n",
       "zip_code                       7043.0  93486.070567   1856.767505  90001.00   \n",
       "tenure_months                  7043.0     32.386767     24.542061      1.00   \n",
       "num_referrals                  7043.0      1.951867      3.001199      0.00   \n",
       "avg_long_distance_fee_monthly  7043.0     22.958954     15.448113      0.00   \n",
       "total_long_distance_fee        7043.0    749.099262    846.660055      0.00   \n",
       "avg_gb_download_monthly        7043.0     20.515405     20.418940      0.00   \n",
       "total_monthly_fee              7043.0     64.761692     30.090047     18.25   \n",
       "total_charges_quarter          7043.0   2280.381264   2266.220462     18.80   \n",
       "total_refunds                  7043.0      1.962182      7.902614      0.00   \n",
       "area_id                        7043.0    767.045577    475.486842      1.00   \n",
       "population                     7043.0  22139.603294  21152.392837     11.00   \n",
       "\n",
       "                                     25%       50%        75%        max  \n",
       "age                               32.000     46.00     60.000      80.00  \n",
       "num_dependents                     0.000      0.00      0.000       9.00  \n",
       "zip_code                       92101.000  93518.00  95329.000   96150.00  \n",
       "tenure_months                      9.000     29.00     55.000      72.00  \n",
       "num_referrals                      0.000      0.00      3.000      11.00  \n",
       "avg_long_distance_fee_monthly      9.210     22.89     36.395      49.99  \n",
       "total_long_distance_fee           70.545    401.44   1191.100    3564.72  \n",
       "avg_gb_download_monthly            3.000     17.00     27.000      85.00  \n",
       "total_monthly_fee                 35.500     70.35     89.850     118.75  \n",
       "total_charges_quarter            400.150   1394.55   3786.600    8684.80  \n",
       "total_refunds                      0.000      0.00      0.000      49.79  \n",
       "area_id                          350.000    741.00   1182.000    1626.00  \n",
       "population                      2344.000  17554.00  36125.000  105285.00  "
      ]
     },
     "execution_count": 363,
     "metadata": {},
     "output_type": "execute_result"
    }
   ],
   "source": [
    "# Get overall statistics of dataset\n",
    "df.describe().T"
   ]
  },
  {
   "cell_type": "code",
   "execution_count": 364,
   "metadata": {},
   "outputs": [],
   "source": [
    "# Export DataFrame to CSV\n",
    "directory = \"../data/\"\n",
    "filename = \"filename.csv\"\n",
    "full_path = directory + filename\n",
    "\n",
    "df.to_csv(full_path, index=False)\n"
   ]
  },
  {
   "cell_type": "markdown",
   "metadata": {},
   "source": [
    "Reread the data back into dataframe"
   ]
  },
  {
   "cell_type": "code",
   "execution_count": 365,
   "metadata": {},
   "outputs": [
    {
     "data": {
      "text/html": [
       "<div>\n",
       "<style scoped>\n",
       "    .dataframe tbody tr th:only-of-type {\n",
       "        vertical-align: middle;\n",
       "    }\n",
       "\n",
       "    .dataframe tbody tr th {\n",
       "        vertical-align: top;\n",
       "    }\n",
       "\n",
       "    .dataframe thead th {\n",
       "        text-align: right;\n",
       "    }\n",
       "</style>\n",
       "<table border=\"1\" class=\"dataframe\">\n",
       "  <thead>\n",
       "    <tr style=\"text-align: right;\">\n",
       "      <th></th>\n",
       "      <th>customer_id</th>\n",
       "      <th>status</th>\n",
       "      <th>churn_label</th>\n",
       "      <th>churn_category</th>\n",
       "      <th>churn_reason</th>\n",
       "      <th>gender</th>\n",
       "      <th>age</th>\n",
       "      <th>senior_citizen</th>\n",
       "      <th>married</th>\n",
       "      <th>num_dependents</th>\n",
       "      <th>...</th>\n",
       "      <th>avg_gb_download_monthly</th>\n",
       "      <th>stream_tv</th>\n",
       "      <th>stream_movie</th>\n",
       "      <th>stream_music</th>\n",
       "      <th>total_monthly_fee</th>\n",
       "      <th>total_charges_quarter</th>\n",
       "      <th>total_refunds</th>\n",
       "      <th>area_id</th>\n",
       "      <th>population</th>\n",
       "      <th>city</th>\n",
       "    </tr>\n",
       "  </thead>\n",
       "  <tbody>\n",
       "    <tr>\n",
       "      <th>0</th>\n",
       "      <td>0013-EXCHZ</td>\n",
       "      <td>Churned</td>\n",
       "      <td>Yes</td>\n",
       "      <td>Dissatisfaction</td>\n",
       "      <td>Network reliability</td>\n",
       "      <td>Female</td>\n",
       "      <td>75</td>\n",
       "      <td>Yes</td>\n",
       "      <td>Yes</td>\n",
       "      <td>0</td>\n",
       "      <td>...</td>\n",
       "      <td>11</td>\n",
       "      <td>Yes</td>\n",
       "      <td>No</td>\n",
       "      <td>No</td>\n",
       "      <td>83.90</td>\n",
       "      <td>267.40</td>\n",
       "      <td>0.0</td>\n",
       "      <td>607</td>\n",
       "      <td>42853</td>\n",
       "      <td>Camarillo</td>\n",
       "    </tr>\n",
       "    <tr>\n",
       "      <th>1</th>\n",
       "      <td>0014-BMAQU</td>\n",
       "      <td>Stayed</td>\n",
       "      <td>No</td>\n",
       "      <td>NaN</td>\n",
       "      <td>NaN</td>\n",
       "      <td>Male</td>\n",
       "      <td>52</td>\n",
       "      <td>No</td>\n",
       "      <td>Yes</td>\n",
       "      <td>0</td>\n",
       "      <td>...</td>\n",
       "      <td>7</td>\n",
       "      <td>No</td>\n",
       "      <td>No</td>\n",
       "      <td>No</td>\n",
       "      <td>84.65</td>\n",
       "      <td>5377.80</td>\n",
       "      <td>0.0</td>\n",
       "      <td>963</td>\n",
       "      <td>63947</td>\n",
       "      <td>Napa</td>\n",
       "    </tr>\n",
       "    <tr>\n",
       "      <th>2</th>\n",
       "      <td>0016-QLJIS</td>\n",
       "      <td>Stayed</td>\n",
       "      <td>No</td>\n",
       "      <td>NaN</td>\n",
       "      <td>NaN</td>\n",
       "      <td>Female</td>\n",
       "      <td>43</td>\n",
       "      <td>No</td>\n",
       "      <td>Yes</td>\n",
       "      <td>1</td>\n",
       "      <td>...</td>\n",
       "      <td>14</td>\n",
       "      <td>Yes</td>\n",
       "      <td>Yes</td>\n",
       "      <td>Yes</td>\n",
       "      <td>90.45</td>\n",
       "      <td>5957.90</td>\n",
       "      <td>0.0</td>\n",
       "      <td>1390</td>\n",
       "      <td>1219</td>\n",
       "      <td>Sheridan</td>\n",
       "    </tr>\n",
       "    <tr>\n",
       "      <th>3</th>\n",
       "      <td>0019-EFAEP</td>\n",
       "      <td>Stayed</td>\n",
       "      <td>No</td>\n",
       "      <td>NaN</td>\n",
       "      <td>NaN</td>\n",
       "      <td>Female</td>\n",
       "      <td>32</td>\n",
       "      <td>No</td>\n",
       "      <td>No</td>\n",
       "      <td>0</td>\n",
       "      <td>...</td>\n",
       "      <td>16</td>\n",
       "      <td>Yes</td>\n",
       "      <td>No</td>\n",
       "      <td>No</td>\n",
       "      <td>101.30</td>\n",
       "      <td>7261.25</td>\n",
       "      <td>0.0</td>\n",
       "      <td>303</td>\n",
       "      <td>24005</td>\n",
       "      <td>La Mesa</td>\n",
       "    </tr>\n",
       "    <tr>\n",
       "      <th>4</th>\n",
       "      <td>0019-GFNTW</td>\n",
       "      <td>Stayed</td>\n",
       "      <td>No</td>\n",
       "      <td>NaN</td>\n",
       "      <td>NaN</td>\n",
       "      <td>Female</td>\n",
       "      <td>39</td>\n",
       "      <td>No</td>\n",
       "      <td>No</td>\n",
       "      <td>0</td>\n",
       "      <td>...</td>\n",
       "      <td>19</td>\n",
       "      <td>No</td>\n",
       "      <td>No</td>\n",
       "      <td>No</td>\n",
       "      <td>45.05</td>\n",
       "      <td>2560.10</td>\n",
       "      <td>0.0</td>\n",
       "      <td>716</td>\n",
       "      <td>1317</td>\n",
       "      <td>Los Olivos</td>\n",
       "    </tr>\n",
       "  </tbody>\n",
       "</table>\n",
       "<p>5 rows × 38 columns</p>\n",
       "</div>"
      ],
      "text/plain": [
       "  customer_id   status churn_label   churn_category         churn_reason  \\\n",
       "0  0013-EXCHZ  Churned         Yes  Dissatisfaction  Network reliability   \n",
       "1  0014-BMAQU   Stayed          No              NaN                  NaN   \n",
       "2  0016-QLJIS   Stayed          No              NaN                  NaN   \n",
       "3  0019-EFAEP   Stayed          No              NaN                  NaN   \n",
       "4  0019-GFNTW   Stayed          No              NaN                  NaN   \n",
       "\n",
       "   gender  age senior_citizen married  num_dependents  ...  \\\n",
       "0  Female   75            Yes     Yes               0  ...   \n",
       "1    Male   52             No     Yes               0  ...   \n",
       "2  Female   43             No     Yes               1  ...   \n",
       "3  Female   32             No      No               0  ...   \n",
       "4  Female   39             No      No               0  ...   \n",
       "\n",
       "   avg_gb_download_monthly stream_tv  stream_movie  stream_music  \\\n",
       "0                       11       Yes            No            No   \n",
       "1                        7        No            No            No   \n",
       "2                       14       Yes           Yes           Yes   \n",
       "3                       16       Yes            No            No   \n",
       "4                       19        No            No            No   \n",
       "\n",
       "  total_monthly_fee total_charges_quarter total_refunds area_id population  \\\n",
       "0             83.90                267.40           0.0     607      42853   \n",
       "1             84.65               5377.80           0.0     963      63947   \n",
       "2             90.45               5957.90           0.0    1390       1219   \n",
       "3            101.30               7261.25           0.0     303      24005   \n",
       "4             45.05               2560.10           0.0     716       1317   \n",
       "\n",
       "         city  \n",
       "0   Camarillo  \n",
       "1        Napa  \n",
       "2    Sheridan  \n",
       "3     La Mesa  \n",
       "4  Los Olivos  \n",
       "\n",
       "[5 rows x 38 columns]"
      ]
     },
     "execution_count": 365,
     "metadata": {},
     "output_type": "execute_result"
    }
   ],
   "source": [
    "df = pd.read_csv(full_path)\n",
    "\n",
    "# Display the first few rows of the loaded data\n",
    "df.head()\n"
   ]
  },
  {
   "cell_type": "code",
   "execution_count": 366,
   "metadata": {},
   "outputs": [
    {
     "name": "stdout",
     "output_type": "stream",
     "text": [
      "<class 'pandas.core.frame.DataFrame'>\n",
      "RangeIndex: 7043 entries, 0 to 7042\n",
      "Data columns (total 38 columns):\n",
      " #   Column                         Non-Null Count  Dtype  \n",
      "---  ------                         --------------  -----  \n",
      " 0   customer_id                    7043 non-null   object \n",
      " 1   status                         7043 non-null   object \n",
      " 2   churn_label                    6991 non-null   object \n",
      " 3   churn_category                 1869 non-null   object \n",
      " 4   churn_reason                   1869 non-null   object \n",
      " 5   gender                         7043 non-null   object \n",
      " 6   age                            7043 non-null   int64  \n",
      " 7   senior_citizen                 7043 non-null   object \n",
      " 8   married                        7043 non-null   object \n",
      " 9   num_dependents                 7043 non-null   int64  \n",
      " 10  zip_code                       7043 non-null   int64  \n",
      " 11  account_id                     7043 non-null   object \n",
      " 12  tenure_months                  7043 non-null   int64  \n",
      " 13  num_referrals                  7043 non-null   int64  \n",
      " 14  has_internet_service           7043 non-null   object \n",
      " 15  internet_type                  5517 non-null   object \n",
      " 16  has_unlimited_data             7043 non-null   object \n",
      " 17  has_phone_service              7043 non-null   object \n",
      " 18  has_multiple_lines             7043 non-null   object \n",
      " 19  has_premium_tech_support       7043 non-null   object \n",
      " 20  has_online_security            7043 non-null   object \n",
      " 21  has_online_backup              7043 non-null   object \n",
      " 22  has_device_protection          7043 non-null   object \n",
      " 23  contract_type                  7043 non-null   object \n",
      " 24  paperless_billing              7043 non-null   object \n",
      " 25  payment_method                 7043 non-null   object \n",
      " 26  avg_long_distance_fee_monthly  7043 non-null   float64\n",
      " 27  total_long_distance_fee        7043 non-null   float64\n",
      " 28  avg_gb_download_monthly        7043 non-null   int64  \n",
      " 29  stream_tv                      7043 non-null   object \n",
      " 30  stream_movie                   7043 non-null   object \n",
      " 31  stream_music                   7043 non-null   object \n",
      " 32  total_monthly_fee              7043 non-null   float64\n",
      " 33  total_charges_quarter          7043 non-null   float64\n",
      " 34  total_refunds                  7043 non-null   float64\n",
      " 35  area_id                        7043 non-null   int64  \n",
      " 36  population                     7043 non-null   int64  \n",
      " 37  city                           7043 non-null   object \n",
      "dtypes: float64(5), int64(8), object(25)\n",
      "memory usage: 2.0+ MB\n"
     ]
    }
   ],
   "source": [
    "df.info()"
   ]
  },
  {
   "cell_type": "markdown",
   "metadata": {},
   "source": [
    "## 2. EDA - Visualization."
   ]
  },
  {
   "cell_type": "code",
   "execution_count": 367,
   "metadata": {},
   "outputs": [
    {
     "data": {
      "application/vnd.plotly.v1+json": {
       "config": {
        "plotlyServerURL": "https://plot.ly"
       },
       "data": [
        {
         "alignmentgroup": "True",
         "hovertemplate": "variable=count<br>status=%{x}<br>value=%{y}<extra></extra>",
         "legendgroup": "count",
         "marker": {
          "color": "#636efa",
          "pattern": {
           "shape": ""
          }
         },
         "name": "count",
         "offsetgroup": "count",
         "orientation": "v",
         "showlegend": true,
         "textposition": "auto",
         "type": "bar",
         "x": [
          "Stayed",
          "Churned",
          "Joined"
         ],
         "xaxis": "x",
         "y": [
          4720,
          1869,
          454
         ],
         "yaxis": "y"
        }
       ],
       "layout": {
        "barmode": "relative",
        "height": 500,
        "legend": {
         "title": {
          "text": "variable"
         },
         "tracegroupgap": 0
        },
        "margin": {
         "t": 60
        },
        "template": {
         "data": {
          "bar": [
           {
            "error_x": {
             "color": "#2a3f5f"
            },
            "error_y": {
             "color": "#2a3f5f"
            },
            "marker": {
             "line": {
              "color": "#E5ECF6",
              "width": 0.5
             },
             "pattern": {
              "fillmode": "overlay",
              "size": 10,
              "solidity": 0.2
             }
            },
            "type": "bar"
           }
          ],
          "barpolar": [
           {
            "marker": {
             "line": {
              "color": "#E5ECF6",
              "width": 0.5
             },
             "pattern": {
              "fillmode": "overlay",
              "size": 10,
              "solidity": 0.2
             }
            },
            "type": "barpolar"
           }
          ],
          "carpet": [
           {
            "aaxis": {
             "endlinecolor": "#2a3f5f",
             "gridcolor": "white",
             "linecolor": "white",
             "minorgridcolor": "white",
             "startlinecolor": "#2a3f5f"
            },
            "baxis": {
             "endlinecolor": "#2a3f5f",
             "gridcolor": "white",
             "linecolor": "white",
             "minorgridcolor": "white",
             "startlinecolor": "#2a3f5f"
            },
            "type": "carpet"
           }
          ],
          "choropleth": [
           {
            "colorbar": {
             "outlinewidth": 0,
             "ticks": ""
            },
            "type": "choropleth"
           }
          ],
          "contour": [
           {
            "colorbar": {
             "outlinewidth": 0,
             "ticks": ""
            },
            "colorscale": [
             [
              0,
              "#0d0887"
             ],
             [
              0.1111111111111111,
              "#46039f"
             ],
             [
              0.2222222222222222,
              "#7201a8"
             ],
             [
              0.3333333333333333,
              "#9c179e"
             ],
             [
              0.4444444444444444,
              "#bd3786"
             ],
             [
              0.5555555555555556,
              "#d8576b"
             ],
             [
              0.6666666666666666,
              "#ed7953"
             ],
             [
              0.7777777777777778,
              "#fb9f3a"
             ],
             [
              0.8888888888888888,
              "#fdca26"
             ],
             [
              1,
              "#f0f921"
             ]
            ],
            "type": "contour"
           }
          ],
          "contourcarpet": [
           {
            "colorbar": {
             "outlinewidth": 0,
             "ticks": ""
            },
            "type": "contourcarpet"
           }
          ],
          "heatmap": [
           {
            "colorbar": {
             "outlinewidth": 0,
             "ticks": ""
            },
            "colorscale": [
             [
              0,
              "#0d0887"
             ],
             [
              0.1111111111111111,
              "#46039f"
             ],
             [
              0.2222222222222222,
              "#7201a8"
             ],
             [
              0.3333333333333333,
              "#9c179e"
             ],
             [
              0.4444444444444444,
              "#bd3786"
             ],
             [
              0.5555555555555556,
              "#d8576b"
             ],
             [
              0.6666666666666666,
              "#ed7953"
             ],
             [
              0.7777777777777778,
              "#fb9f3a"
             ],
             [
              0.8888888888888888,
              "#fdca26"
             ],
             [
              1,
              "#f0f921"
             ]
            ],
            "type": "heatmap"
           }
          ],
          "heatmapgl": [
           {
            "colorbar": {
             "outlinewidth": 0,
             "ticks": ""
            },
            "colorscale": [
             [
              0,
              "#0d0887"
             ],
             [
              0.1111111111111111,
              "#46039f"
             ],
             [
              0.2222222222222222,
              "#7201a8"
             ],
             [
              0.3333333333333333,
              "#9c179e"
             ],
             [
              0.4444444444444444,
              "#bd3786"
             ],
             [
              0.5555555555555556,
              "#d8576b"
             ],
             [
              0.6666666666666666,
              "#ed7953"
             ],
             [
              0.7777777777777778,
              "#fb9f3a"
             ],
             [
              0.8888888888888888,
              "#fdca26"
             ],
             [
              1,
              "#f0f921"
             ]
            ],
            "type": "heatmapgl"
           }
          ],
          "histogram": [
           {
            "marker": {
             "pattern": {
              "fillmode": "overlay",
              "size": 10,
              "solidity": 0.2
             }
            },
            "type": "histogram"
           }
          ],
          "histogram2d": [
           {
            "colorbar": {
             "outlinewidth": 0,
             "ticks": ""
            },
            "colorscale": [
             [
              0,
              "#0d0887"
             ],
             [
              0.1111111111111111,
              "#46039f"
             ],
             [
              0.2222222222222222,
              "#7201a8"
             ],
             [
              0.3333333333333333,
              "#9c179e"
             ],
             [
              0.4444444444444444,
              "#bd3786"
             ],
             [
              0.5555555555555556,
              "#d8576b"
             ],
             [
              0.6666666666666666,
              "#ed7953"
             ],
             [
              0.7777777777777778,
              "#fb9f3a"
             ],
             [
              0.8888888888888888,
              "#fdca26"
             ],
             [
              1,
              "#f0f921"
             ]
            ],
            "type": "histogram2d"
           }
          ],
          "histogram2dcontour": [
           {
            "colorbar": {
             "outlinewidth": 0,
             "ticks": ""
            },
            "colorscale": [
             [
              0,
              "#0d0887"
             ],
             [
              0.1111111111111111,
              "#46039f"
             ],
             [
              0.2222222222222222,
              "#7201a8"
             ],
             [
              0.3333333333333333,
              "#9c179e"
             ],
             [
              0.4444444444444444,
              "#bd3786"
             ],
             [
              0.5555555555555556,
              "#d8576b"
             ],
             [
              0.6666666666666666,
              "#ed7953"
             ],
             [
              0.7777777777777778,
              "#fb9f3a"
             ],
             [
              0.8888888888888888,
              "#fdca26"
             ],
             [
              1,
              "#f0f921"
             ]
            ],
            "type": "histogram2dcontour"
           }
          ],
          "mesh3d": [
           {
            "colorbar": {
             "outlinewidth": 0,
             "ticks": ""
            },
            "type": "mesh3d"
           }
          ],
          "parcoords": [
           {
            "line": {
             "colorbar": {
              "outlinewidth": 0,
              "ticks": ""
             }
            },
            "type": "parcoords"
           }
          ],
          "pie": [
           {
            "automargin": true,
            "type": "pie"
           }
          ],
          "scatter": [
           {
            "fillpattern": {
             "fillmode": "overlay",
             "size": 10,
             "solidity": 0.2
            },
            "type": "scatter"
           }
          ],
          "scatter3d": [
           {
            "line": {
             "colorbar": {
              "outlinewidth": 0,
              "ticks": ""
             }
            },
            "marker": {
             "colorbar": {
              "outlinewidth": 0,
              "ticks": ""
             }
            },
            "type": "scatter3d"
           }
          ],
          "scattercarpet": [
           {
            "marker": {
             "colorbar": {
              "outlinewidth": 0,
              "ticks": ""
             }
            },
            "type": "scattercarpet"
           }
          ],
          "scattergeo": [
           {
            "marker": {
             "colorbar": {
              "outlinewidth": 0,
              "ticks": ""
             }
            },
            "type": "scattergeo"
           }
          ],
          "scattergl": [
           {
            "marker": {
             "colorbar": {
              "outlinewidth": 0,
              "ticks": ""
             }
            },
            "type": "scattergl"
           }
          ],
          "scattermapbox": [
           {
            "marker": {
             "colorbar": {
              "outlinewidth": 0,
              "ticks": ""
             }
            },
            "type": "scattermapbox"
           }
          ],
          "scatterpolar": [
           {
            "marker": {
             "colorbar": {
              "outlinewidth": 0,
              "ticks": ""
             }
            },
            "type": "scatterpolar"
           }
          ],
          "scatterpolargl": [
           {
            "marker": {
             "colorbar": {
              "outlinewidth": 0,
              "ticks": ""
             }
            },
            "type": "scatterpolargl"
           }
          ],
          "scatterternary": [
           {
            "marker": {
             "colorbar": {
              "outlinewidth": 0,
              "ticks": ""
             }
            },
            "type": "scatterternary"
           }
          ],
          "surface": [
           {
            "colorbar": {
             "outlinewidth": 0,
             "ticks": ""
            },
            "colorscale": [
             [
              0,
              "#0d0887"
             ],
             [
              0.1111111111111111,
              "#46039f"
             ],
             [
              0.2222222222222222,
              "#7201a8"
             ],
             [
              0.3333333333333333,
              "#9c179e"
             ],
             [
              0.4444444444444444,
              "#bd3786"
             ],
             [
              0.5555555555555556,
              "#d8576b"
             ],
             [
              0.6666666666666666,
              "#ed7953"
             ],
             [
              0.7777777777777778,
              "#fb9f3a"
             ],
             [
              0.8888888888888888,
              "#fdca26"
             ],
             [
              1,
              "#f0f921"
             ]
            ],
            "type": "surface"
           }
          ],
          "table": [
           {
            "cells": {
             "fill": {
              "color": "#EBF0F8"
             },
             "line": {
              "color": "white"
             }
            },
            "header": {
             "fill": {
              "color": "#C8D4E3"
             },
             "line": {
              "color": "white"
             }
            },
            "type": "table"
           }
          ]
         },
         "layout": {
          "annotationdefaults": {
           "arrowcolor": "#2a3f5f",
           "arrowhead": 0,
           "arrowwidth": 1
          },
          "autotypenumbers": "strict",
          "coloraxis": {
           "colorbar": {
            "outlinewidth": 0,
            "ticks": ""
           }
          },
          "colorscale": {
           "diverging": [
            [
             0,
             "#8e0152"
            ],
            [
             0.1,
             "#c51b7d"
            ],
            [
             0.2,
             "#de77ae"
            ],
            [
             0.3,
             "#f1b6da"
            ],
            [
             0.4,
             "#fde0ef"
            ],
            [
             0.5,
             "#f7f7f7"
            ],
            [
             0.6,
             "#e6f5d0"
            ],
            [
             0.7,
             "#b8e186"
            ],
            [
             0.8,
             "#7fbc41"
            ],
            [
             0.9,
             "#4d9221"
            ],
            [
             1,
             "#276419"
            ]
           ],
           "sequential": [
            [
             0,
             "#0d0887"
            ],
            [
             0.1111111111111111,
             "#46039f"
            ],
            [
             0.2222222222222222,
             "#7201a8"
            ],
            [
             0.3333333333333333,
             "#9c179e"
            ],
            [
             0.4444444444444444,
             "#bd3786"
            ],
            [
             0.5555555555555556,
             "#d8576b"
            ],
            [
             0.6666666666666666,
             "#ed7953"
            ],
            [
             0.7777777777777778,
             "#fb9f3a"
            ],
            [
             0.8888888888888888,
             "#fdca26"
            ],
            [
             1,
             "#f0f921"
            ]
           ],
           "sequentialminus": [
            [
             0,
             "#0d0887"
            ],
            [
             0.1111111111111111,
             "#46039f"
            ],
            [
             0.2222222222222222,
             "#7201a8"
            ],
            [
             0.3333333333333333,
             "#9c179e"
            ],
            [
             0.4444444444444444,
             "#bd3786"
            ],
            [
             0.5555555555555556,
             "#d8576b"
            ],
            [
             0.6666666666666666,
             "#ed7953"
            ],
            [
             0.7777777777777778,
             "#fb9f3a"
            ],
            [
             0.8888888888888888,
             "#fdca26"
            ],
            [
             1,
             "#f0f921"
            ]
           ]
          },
          "colorway": [
           "#636efa",
           "#EF553B",
           "#00cc96",
           "#ab63fa",
           "#FFA15A",
           "#19d3f3",
           "#FF6692",
           "#B6E880",
           "#FF97FF",
           "#FECB52"
          ],
          "font": {
           "color": "#2a3f5f"
          },
          "geo": {
           "bgcolor": "white",
           "lakecolor": "white",
           "landcolor": "#E5ECF6",
           "showlakes": true,
           "showland": true,
           "subunitcolor": "white"
          },
          "hoverlabel": {
           "align": "left"
          },
          "hovermode": "closest",
          "mapbox": {
           "style": "light"
          },
          "paper_bgcolor": "white",
          "plot_bgcolor": "#E5ECF6",
          "polar": {
           "angularaxis": {
            "gridcolor": "white",
            "linecolor": "white",
            "ticks": ""
           },
           "bgcolor": "#E5ECF6",
           "radialaxis": {
            "gridcolor": "white",
            "linecolor": "white",
            "ticks": ""
           }
          },
          "scene": {
           "xaxis": {
            "backgroundcolor": "#E5ECF6",
            "gridcolor": "white",
            "gridwidth": 2,
            "linecolor": "white",
            "showbackground": true,
            "ticks": "",
            "zerolinecolor": "white"
           },
           "yaxis": {
            "backgroundcolor": "#E5ECF6",
            "gridcolor": "white",
            "gridwidth": 2,
            "linecolor": "white",
            "showbackground": true,
            "ticks": "",
            "zerolinecolor": "white"
           },
           "zaxis": {
            "backgroundcolor": "#E5ECF6",
            "gridcolor": "white",
            "gridwidth": 2,
            "linecolor": "white",
            "showbackground": true,
            "ticks": "",
            "zerolinecolor": "white"
           }
          },
          "shapedefaults": {
           "line": {
            "color": "#2a3f5f"
           }
          },
          "ternary": {
           "aaxis": {
            "gridcolor": "white",
            "linecolor": "white",
            "ticks": ""
           },
           "baxis": {
            "gridcolor": "white",
            "linecolor": "white",
            "ticks": ""
           },
           "bgcolor": "#E5ECF6",
           "caxis": {
            "gridcolor": "white",
            "linecolor": "white",
            "ticks": ""
           }
          },
          "title": {
           "x": 0.05
          },
          "xaxis": {
           "automargin": true,
           "gridcolor": "white",
           "linecolor": "white",
           "ticks": "",
           "title": {
            "standoff": 15
           },
           "zerolinecolor": "white",
           "zerolinewidth": 2
          },
          "yaxis": {
           "automargin": true,
           "gridcolor": "white",
           "linecolor": "white",
           "ticks": "",
           "title": {
            "standoff": 15
           },
           "zerolinecolor": "white",
           "zerolinewidth": 2
          }
         }
        },
        "width": 800,
        "xaxis": {
         "anchor": "y",
         "domain": [
          0,
          1
         ],
         "title": {
          "text": "status"
         }
        },
        "yaxis": {
         "anchor": "x",
         "domain": [
          0,
          1
         ],
         "title": {
          "text": "value"
         }
        }
       }
      }
     },
     "metadata": {},
     "output_type": "display_data"
    }
   ],
   "source": [
    "# Import the library\n",
    "import plotly.express as px\n",
    "\n",
    "# Let's have a look at the churn status.\n",
    "fig = px.bar(df['status'].value_counts(), width=800, height=500)\n",
    "fig.show()"
   ]
  },
  {
   "cell_type": "code",
   "execution_count": 368,
   "metadata": {},
   "outputs": [
    {
     "data": {
      "application/vnd.plotly.v1+json": {
       "config": {
        "plotlyServerURL": "https://plot.ly"
       },
       "data": [
        {
         "alignmentgroup": "True",
         "hovertemplate": "variable=count<br>churn_label=%{x}<br>value=%{y}<extra></extra>",
         "legendgroup": "count",
         "marker": {
          "color": "#636efa",
          "pattern": {
           "shape": ""
          }
         },
         "name": "count",
         "offsetgroup": "count",
         "orientation": "v",
         "showlegend": true,
         "textposition": "auto",
         "type": "bar",
         "x": [
          "No",
          "Yes"
         ],
         "xaxis": "x",
         "y": [
          5174,
          1817
         ],
         "yaxis": "y"
        }
       ],
       "layout": {
        "barmode": "relative",
        "height": 500,
        "legend": {
         "title": {
          "text": "variable"
         },
         "tracegroupgap": 0
        },
        "margin": {
         "t": 60
        },
        "template": {
         "data": {
          "bar": [
           {
            "error_x": {
             "color": "#2a3f5f"
            },
            "error_y": {
             "color": "#2a3f5f"
            },
            "marker": {
             "line": {
              "color": "#E5ECF6",
              "width": 0.5
             },
             "pattern": {
              "fillmode": "overlay",
              "size": 10,
              "solidity": 0.2
             }
            },
            "type": "bar"
           }
          ],
          "barpolar": [
           {
            "marker": {
             "line": {
              "color": "#E5ECF6",
              "width": 0.5
             },
             "pattern": {
              "fillmode": "overlay",
              "size": 10,
              "solidity": 0.2
             }
            },
            "type": "barpolar"
           }
          ],
          "carpet": [
           {
            "aaxis": {
             "endlinecolor": "#2a3f5f",
             "gridcolor": "white",
             "linecolor": "white",
             "minorgridcolor": "white",
             "startlinecolor": "#2a3f5f"
            },
            "baxis": {
             "endlinecolor": "#2a3f5f",
             "gridcolor": "white",
             "linecolor": "white",
             "minorgridcolor": "white",
             "startlinecolor": "#2a3f5f"
            },
            "type": "carpet"
           }
          ],
          "choropleth": [
           {
            "colorbar": {
             "outlinewidth": 0,
             "ticks": ""
            },
            "type": "choropleth"
           }
          ],
          "contour": [
           {
            "colorbar": {
             "outlinewidth": 0,
             "ticks": ""
            },
            "colorscale": [
             [
              0,
              "#0d0887"
             ],
             [
              0.1111111111111111,
              "#46039f"
             ],
             [
              0.2222222222222222,
              "#7201a8"
             ],
             [
              0.3333333333333333,
              "#9c179e"
             ],
             [
              0.4444444444444444,
              "#bd3786"
             ],
             [
              0.5555555555555556,
              "#d8576b"
             ],
             [
              0.6666666666666666,
              "#ed7953"
             ],
             [
              0.7777777777777778,
              "#fb9f3a"
             ],
             [
              0.8888888888888888,
              "#fdca26"
             ],
             [
              1,
              "#f0f921"
             ]
            ],
            "type": "contour"
           }
          ],
          "contourcarpet": [
           {
            "colorbar": {
             "outlinewidth": 0,
             "ticks": ""
            },
            "type": "contourcarpet"
           }
          ],
          "heatmap": [
           {
            "colorbar": {
             "outlinewidth": 0,
             "ticks": ""
            },
            "colorscale": [
             [
              0,
              "#0d0887"
             ],
             [
              0.1111111111111111,
              "#46039f"
             ],
             [
              0.2222222222222222,
              "#7201a8"
             ],
             [
              0.3333333333333333,
              "#9c179e"
             ],
             [
              0.4444444444444444,
              "#bd3786"
             ],
             [
              0.5555555555555556,
              "#d8576b"
             ],
             [
              0.6666666666666666,
              "#ed7953"
             ],
             [
              0.7777777777777778,
              "#fb9f3a"
             ],
             [
              0.8888888888888888,
              "#fdca26"
             ],
             [
              1,
              "#f0f921"
             ]
            ],
            "type": "heatmap"
           }
          ],
          "heatmapgl": [
           {
            "colorbar": {
             "outlinewidth": 0,
             "ticks": ""
            },
            "colorscale": [
             [
              0,
              "#0d0887"
             ],
             [
              0.1111111111111111,
              "#46039f"
             ],
             [
              0.2222222222222222,
              "#7201a8"
             ],
             [
              0.3333333333333333,
              "#9c179e"
             ],
             [
              0.4444444444444444,
              "#bd3786"
             ],
             [
              0.5555555555555556,
              "#d8576b"
             ],
             [
              0.6666666666666666,
              "#ed7953"
             ],
             [
              0.7777777777777778,
              "#fb9f3a"
             ],
             [
              0.8888888888888888,
              "#fdca26"
             ],
             [
              1,
              "#f0f921"
             ]
            ],
            "type": "heatmapgl"
           }
          ],
          "histogram": [
           {
            "marker": {
             "pattern": {
              "fillmode": "overlay",
              "size": 10,
              "solidity": 0.2
             }
            },
            "type": "histogram"
           }
          ],
          "histogram2d": [
           {
            "colorbar": {
             "outlinewidth": 0,
             "ticks": ""
            },
            "colorscale": [
             [
              0,
              "#0d0887"
             ],
             [
              0.1111111111111111,
              "#46039f"
             ],
             [
              0.2222222222222222,
              "#7201a8"
             ],
             [
              0.3333333333333333,
              "#9c179e"
             ],
             [
              0.4444444444444444,
              "#bd3786"
             ],
             [
              0.5555555555555556,
              "#d8576b"
             ],
             [
              0.6666666666666666,
              "#ed7953"
             ],
             [
              0.7777777777777778,
              "#fb9f3a"
             ],
             [
              0.8888888888888888,
              "#fdca26"
             ],
             [
              1,
              "#f0f921"
             ]
            ],
            "type": "histogram2d"
           }
          ],
          "histogram2dcontour": [
           {
            "colorbar": {
             "outlinewidth": 0,
             "ticks": ""
            },
            "colorscale": [
             [
              0,
              "#0d0887"
             ],
             [
              0.1111111111111111,
              "#46039f"
             ],
             [
              0.2222222222222222,
              "#7201a8"
             ],
             [
              0.3333333333333333,
              "#9c179e"
             ],
             [
              0.4444444444444444,
              "#bd3786"
             ],
             [
              0.5555555555555556,
              "#d8576b"
             ],
             [
              0.6666666666666666,
              "#ed7953"
             ],
             [
              0.7777777777777778,
              "#fb9f3a"
             ],
             [
              0.8888888888888888,
              "#fdca26"
             ],
             [
              1,
              "#f0f921"
             ]
            ],
            "type": "histogram2dcontour"
           }
          ],
          "mesh3d": [
           {
            "colorbar": {
             "outlinewidth": 0,
             "ticks": ""
            },
            "type": "mesh3d"
           }
          ],
          "parcoords": [
           {
            "line": {
             "colorbar": {
              "outlinewidth": 0,
              "ticks": ""
             }
            },
            "type": "parcoords"
           }
          ],
          "pie": [
           {
            "automargin": true,
            "type": "pie"
           }
          ],
          "scatter": [
           {
            "fillpattern": {
             "fillmode": "overlay",
             "size": 10,
             "solidity": 0.2
            },
            "type": "scatter"
           }
          ],
          "scatter3d": [
           {
            "line": {
             "colorbar": {
              "outlinewidth": 0,
              "ticks": ""
             }
            },
            "marker": {
             "colorbar": {
              "outlinewidth": 0,
              "ticks": ""
             }
            },
            "type": "scatter3d"
           }
          ],
          "scattercarpet": [
           {
            "marker": {
             "colorbar": {
              "outlinewidth": 0,
              "ticks": ""
             }
            },
            "type": "scattercarpet"
           }
          ],
          "scattergeo": [
           {
            "marker": {
             "colorbar": {
              "outlinewidth": 0,
              "ticks": ""
             }
            },
            "type": "scattergeo"
           }
          ],
          "scattergl": [
           {
            "marker": {
             "colorbar": {
              "outlinewidth": 0,
              "ticks": ""
             }
            },
            "type": "scattergl"
           }
          ],
          "scattermapbox": [
           {
            "marker": {
             "colorbar": {
              "outlinewidth": 0,
              "ticks": ""
             }
            },
            "type": "scattermapbox"
           }
          ],
          "scatterpolar": [
           {
            "marker": {
             "colorbar": {
              "outlinewidth": 0,
              "ticks": ""
             }
            },
            "type": "scatterpolar"
           }
          ],
          "scatterpolargl": [
           {
            "marker": {
             "colorbar": {
              "outlinewidth": 0,
              "ticks": ""
             }
            },
            "type": "scatterpolargl"
           }
          ],
          "scatterternary": [
           {
            "marker": {
             "colorbar": {
              "outlinewidth": 0,
              "ticks": ""
             }
            },
            "type": "scatterternary"
           }
          ],
          "surface": [
           {
            "colorbar": {
             "outlinewidth": 0,
             "ticks": ""
            },
            "colorscale": [
             [
              0,
              "#0d0887"
             ],
             [
              0.1111111111111111,
              "#46039f"
             ],
             [
              0.2222222222222222,
              "#7201a8"
             ],
             [
              0.3333333333333333,
              "#9c179e"
             ],
             [
              0.4444444444444444,
              "#bd3786"
             ],
             [
              0.5555555555555556,
              "#d8576b"
             ],
             [
              0.6666666666666666,
              "#ed7953"
             ],
             [
              0.7777777777777778,
              "#fb9f3a"
             ],
             [
              0.8888888888888888,
              "#fdca26"
             ],
             [
              1,
              "#f0f921"
             ]
            ],
            "type": "surface"
           }
          ],
          "table": [
           {
            "cells": {
             "fill": {
              "color": "#EBF0F8"
             },
             "line": {
              "color": "white"
             }
            },
            "header": {
             "fill": {
              "color": "#C8D4E3"
             },
             "line": {
              "color": "white"
             }
            },
            "type": "table"
           }
          ]
         },
         "layout": {
          "annotationdefaults": {
           "arrowcolor": "#2a3f5f",
           "arrowhead": 0,
           "arrowwidth": 1
          },
          "autotypenumbers": "strict",
          "coloraxis": {
           "colorbar": {
            "outlinewidth": 0,
            "ticks": ""
           }
          },
          "colorscale": {
           "diverging": [
            [
             0,
             "#8e0152"
            ],
            [
             0.1,
             "#c51b7d"
            ],
            [
             0.2,
             "#de77ae"
            ],
            [
             0.3,
             "#f1b6da"
            ],
            [
             0.4,
             "#fde0ef"
            ],
            [
             0.5,
             "#f7f7f7"
            ],
            [
             0.6,
             "#e6f5d0"
            ],
            [
             0.7,
             "#b8e186"
            ],
            [
             0.8,
             "#7fbc41"
            ],
            [
             0.9,
             "#4d9221"
            ],
            [
             1,
             "#276419"
            ]
           ],
           "sequential": [
            [
             0,
             "#0d0887"
            ],
            [
             0.1111111111111111,
             "#46039f"
            ],
            [
             0.2222222222222222,
             "#7201a8"
            ],
            [
             0.3333333333333333,
             "#9c179e"
            ],
            [
             0.4444444444444444,
             "#bd3786"
            ],
            [
             0.5555555555555556,
             "#d8576b"
            ],
            [
             0.6666666666666666,
             "#ed7953"
            ],
            [
             0.7777777777777778,
             "#fb9f3a"
            ],
            [
             0.8888888888888888,
             "#fdca26"
            ],
            [
             1,
             "#f0f921"
            ]
           ],
           "sequentialminus": [
            [
             0,
             "#0d0887"
            ],
            [
             0.1111111111111111,
             "#46039f"
            ],
            [
             0.2222222222222222,
             "#7201a8"
            ],
            [
             0.3333333333333333,
             "#9c179e"
            ],
            [
             0.4444444444444444,
             "#bd3786"
            ],
            [
             0.5555555555555556,
             "#d8576b"
            ],
            [
             0.6666666666666666,
             "#ed7953"
            ],
            [
             0.7777777777777778,
             "#fb9f3a"
            ],
            [
             0.8888888888888888,
             "#fdca26"
            ],
            [
             1,
             "#f0f921"
            ]
           ]
          },
          "colorway": [
           "#636efa",
           "#EF553B",
           "#00cc96",
           "#ab63fa",
           "#FFA15A",
           "#19d3f3",
           "#FF6692",
           "#B6E880",
           "#FF97FF",
           "#FECB52"
          ],
          "font": {
           "color": "#2a3f5f"
          },
          "geo": {
           "bgcolor": "white",
           "lakecolor": "white",
           "landcolor": "#E5ECF6",
           "showlakes": true,
           "showland": true,
           "subunitcolor": "white"
          },
          "hoverlabel": {
           "align": "left"
          },
          "hovermode": "closest",
          "mapbox": {
           "style": "light"
          },
          "paper_bgcolor": "white",
          "plot_bgcolor": "#E5ECF6",
          "polar": {
           "angularaxis": {
            "gridcolor": "white",
            "linecolor": "white",
            "ticks": ""
           },
           "bgcolor": "#E5ECF6",
           "radialaxis": {
            "gridcolor": "white",
            "linecolor": "white",
            "ticks": ""
           }
          },
          "scene": {
           "xaxis": {
            "backgroundcolor": "#E5ECF6",
            "gridcolor": "white",
            "gridwidth": 2,
            "linecolor": "white",
            "showbackground": true,
            "ticks": "",
            "zerolinecolor": "white"
           },
           "yaxis": {
            "backgroundcolor": "#E5ECF6",
            "gridcolor": "white",
            "gridwidth": 2,
            "linecolor": "white",
            "showbackground": true,
            "ticks": "",
            "zerolinecolor": "white"
           },
           "zaxis": {
            "backgroundcolor": "#E5ECF6",
            "gridcolor": "white",
            "gridwidth": 2,
            "linecolor": "white",
            "showbackground": true,
            "ticks": "",
            "zerolinecolor": "white"
           }
          },
          "shapedefaults": {
           "line": {
            "color": "#2a3f5f"
           }
          },
          "ternary": {
           "aaxis": {
            "gridcolor": "white",
            "linecolor": "white",
            "ticks": ""
           },
           "baxis": {
            "gridcolor": "white",
            "linecolor": "white",
            "ticks": ""
           },
           "bgcolor": "#E5ECF6",
           "caxis": {
            "gridcolor": "white",
            "linecolor": "white",
            "ticks": ""
           }
          },
          "title": {
           "x": 0.05
          },
          "xaxis": {
           "automargin": true,
           "gridcolor": "white",
           "linecolor": "white",
           "ticks": "",
           "title": {
            "standoff": 15
           },
           "zerolinecolor": "white",
           "zerolinewidth": 2
          },
          "yaxis": {
           "automargin": true,
           "gridcolor": "white",
           "linecolor": "white",
           "ticks": "",
           "title": {
            "standoff": 15
           },
           "zerolinecolor": "white",
           "zerolinewidth": 2
          }
         }
        },
        "width": 800,
        "xaxis": {
         "anchor": "y",
         "domain": [
          0,
          1
         ],
         "title": {
          "text": "churn_label"
         }
        },
        "yaxis": {
         "anchor": "x",
         "domain": [
          0,
          1
         ],
         "title": {
          "text": "value"
         }
        }
       }
      }
     },
     "metadata": {},
     "output_type": "display_data"
    }
   ],
   "source": [
    "# Let's have a look at the churn status.\n",
    "fig = px.bar(df['churn_label'].value_counts(), width=800, height=500)\n",
    "fig.show()"
   ]
  },
  {
   "cell_type": "code",
   "execution_count": 369,
   "metadata": {},
   "outputs": [
    {
     "name": "stdout",
     "output_type": "stream",
     "text": [
      "churn_reason\n",
      "Competitor had better devices                313\n",
      "Competitor made better offer                 311\n",
      "Attitude of support person                   220\n",
      "Don't know                                   130\n",
      "Competitor offered more data                 117\n",
      "Competitor offered higher download speeds    100\n",
      "Attitude of service provider                  94\n",
      "Price too high                                78\n",
      "Product dissatisfaction                       77\n",
      "Network reliability                           72\n",
      "Long distance charges                         64\n",
      "Service dissatisfaction                       63\n",
      "Moved                                         46\n",
      "Extra data charges                            39\n",
      "Limited range of services                     37\n",
      "Poor expertise of online support              31\n",
      "Lack of affordable download/upload speed      30\n",
      "Lack of self-service on Website               29\n",
      "Poor expertise of phone support               12\n",
      "Deceased                                       6\n",
      "Name: count, dtype: int64\n"
     ]
    }
   ],
   "source": [
    "# What could be the reason for the churn.\n",
    "churn_reason_counts = df['churn_reason'].value_counts()\n",
    "print(churn_reason_counts)\n"
   ]
  },
  {
   "cell_type": "code",
   "execution_count": 370,
   "metadata": {},
   "outputs": [
    {
     "data": {
      "text/html": [
       "<div>\n",
       "<style scoped>\n",
       "    .dataframe tbody tr th:only-of-type {\n",
       "        vertical-align: middle;\n",
       "    }\n",
       "\n",
       "    .dataframe tbody tr th {\n",
       "        vertical-align: top;\n",
       "    }\n",
       "\n",
       "    .dataframe thead th {\n",
       "        text-align: right;\n",
       "    }\n",
       "</style>\n",
       "<table border=\"1\" class=\"dataframe\">\n",
       "  <thead>\n",
       "    <tr style=\"text-align: right;\">\n",
       "      <th>churn_label</th>\n",
       "      <th>Yes</th>\n",
       "      <th>No</th>\n",
       "    </tr>\n",
       "    <tr>\n",
       "      <th>gender</th>\n",
       "      <th></th>\n",
       "      <th></th>\n",
       "    </tr>\n",
       "  </thead>\n",
       "  <tbody>\n",
       "    <tr>\n",
       "      <th>Female</th>\n",
       "      <td>0.263933</td>\n",
       "      <td>0.736067</td>\n",
       "    </tr>\n",
       "    <tr>\n",
       "      <th>Male</th>\n",
       "      <td>0.255952</td>\n",
       "      <td>0.744048</td>\n",
       "    </tr>\n",
       "  </tbody>\n",
       "</table>\n",
       "</div>"
      ],
      "text/plain": [
       "churn_label       Yes        No\n",
       "gender                         \n",
       "Female       0.263933  0.736067\n",
       "Male         0.255952  0.744048"
      ]
     },
     "execution_count": 370,
     "metadata": {},
     "output_type": "execute_result"
    }
   ],
   "source": [
    "# Churn rate by gender\n",
    "churn_by_gender = df.groupby('gender')['churn_label'].value_counts(normalize=True).unstack().fillna(0)\n",
    "\n",
    "# Display churn rate by gender\n",
    "churn_by_gender[['Yes', 'No']]\n"
   ]
  },
  {
   "cell_type": "markdown",
   "metadata": {},
   "source": [
    "The churn rates are fairly similar across both genders, with a slight increase in the churn rate for females."
   ]
  },
  {
   "cell_type": "code",
   "execution_count": 371,
   "metadata": {},
   "outputs": [
    {
     "data": {
      "text/plain": [
       "age\n",
       "19    127\n",
       "20    127\n",
       "21    140\n",
       "22    130\n",
       "23    146\n",
       "     ... \n",
       "76     69\n",
       "77     72\n",
       "78     63\n",
       "79     76\n",
       "80     66\n",
       "Name: count, Length: 62, dtype: int64"
      ]
     },
     "execution_count": 371,
     "metadata": {},
     "output_type": "execute_result"
    }
   ],
   "source": [
    "# Check unique age values and their counts\n",
    "age_counts = df['age'].value_counts().sort_index()\n",
    "\n",
    "age_counts\n"
   ]
  },
  {
   "cell_type": "code",
   "execution_count": 372,
   "metadata": {},
   "outputs": [
    {
     "data": {
      "text/html": [
       "<div>\n",
       "<style scoped>\n",
       "    .dataframe tbody tr th:only-of-type {\n",
       "        vertical-align: middle;\n",
       "    }\n",
       "\n",
       "    .dataframe tbody tr th {\n",
       "        vertical-align: top;\n",
       "    }\n",
       "\n",
       "    .dataframe thead th {\n",
       "        text-align: right;\n",
       "    }\n",
       "</style>\n",
       "<table border=\"1\" class=\"dataframe\">\n",
       "  <thead>\n",
       "    <tr style=\"text-align: right;\">\n",
       "      <th>churn_label</th>\n",
       "      <th>Yes</th>\n",
       "      <th>No</th>\n",
       "    </tr>\n",
       "    <tr>\n",
       "      <th>age_group</th>\n",
       "      <th></th>\n",
       "      <th></th>\n",
       "    </tr>\n",
       "  </thead>\n",
       "  <tbody>\n",
       "    <tr>\n",
       "      <th>18-29</th>\n",
       "      <td>0.213620</td>\n",
       "      <td>0.786380</td>\n",
       "    </tr>\n",
       "    <tr>\n",
       "      <th>30-39</th>\n",
       "      <td>0.238663</td>\n",
       "      <td>0.761337</td>\n",
       "    </tr>\n",
       "    <tr>\n",
       "      <th>40-49</th>\n",
       "      <td>0.229496</td>\n",
       "      <td>0.770504</td>\n",
       "    </tr>\n",
       "    <tr>\n",
       "      <th>50-59</th>\n",
       "      <td>0.240354</td>\n",
       "      <td>0.759646</td>\n",
       "    </tr>\n",
       "    <tr>\n",
       "      <th>60-69</th>\n",
       "      <td>0.299497</td>\n",
       "      <td>0.700503</td>\n",
       "    </tr>\n",
       "    <tr>\n",
       "      <th>70-79</th>\n",
       "      <td>0.409348</td>\n",
       "      <td>0.590652</td>\n",
       "    </tr>\n",
       "    <tr>\n",
       "      <th>80-89</th>\n",
       "      <td>0.430769</td>\n",
       "      <td>0.569231</td>\n",
       "    </tr>\n",
       "  </tbody>\n",
       "</table>\n",
       "</div>"
      ],
      "text/plain": [
       "churn_label       Yes        No\n",
       "age_group                      \n",
       "18-29        0.213620  0.786380\n",
       "30-39        0.238663  0.761337\n",
       "40-49        0.229496  0.770504\n",
       "50-59        0.240354  0.759646\n",
       "60-69        0.299497  0.700503\n",
       "70-79        0.409348  0.590652\n",
       "80-89        0.430769  0.569231"
      ]
     },
     "execution_count": 372,
     "metadata": {},
     "output_type": "execute_result"
    }
   ],
   "source": [
    "# Adjust bins and labels to match the data distribution\n",
    "bins = [18, 30, 40, 50, 60, 70, 80, 90]\n",
    "labels = ['18-29', '30-39', '40-49', '50-59', '60-69', '70-79', '80-89']\n",
    "df['age_group'] = pd.cut(df['age'], bins=bins, labels=labels, right=False)\n",
    "\n",
    "# Calculate churn rate by age group again\n",
    "churn_by_age = df.groupby('age_group',observed=True)['churn_label'].value_counts(normalize=True).unstack().fillna(0)\n",
    "\n",
    "# Display churn rate by age group\n",
    "churn_by_age[['Yes', 'No']]\n"
   ]
  },
  {
   "cell_type": "markdown",
   "metadata": {},
   "source": [
    "From the data, it seems that as age increases, the churn rate also increases, particularly for customers in the age group of 70 and above."
   ]
  },
  {
   "cell_type": "code",
   "execution_count": 373,
   "metadata": {},
   "outputs": [
    {
     "data": {
      "text/html": [
       "<div>\n",
       "<style scoped>\n",
       "    .dataframe tbody tr th:only-of-type {\n",
       "        vertical-align: middle;\n",
       "    }\n",
       "\n",
       "    .dataframe tbody tr th {\n",
       "        vertical-align: top;\n",
       "    }\n",
       "\n",
       "    .dataframe thead th {\n",
       "        text-align: right;\n",
       "    }\n",
       "</style>\n",
       "<table border=\"1\" class=\"dataframe\">\n",
       "  <thead>\n",
       "    <tr style=\"text-align: right;\">\n",
       "      <th>churn_label</th>\n",
       "      <th>Yes</th>\n",
       "      <th>No</th>\n",
       "    </tr>\n",
       "    <tr>\n",
       "      <th>senior_citizen</th>\n",
       "      <th></th>\n",
       "      <th></th>\n",
       "    </tr>\n",
       "  </thead>\n",
       "  <tbody>\n",
       "    <tr>\n",
       "      <th>No</th>\n",
       "      <td>0.230585</td>\n",
       "      <td>0.769415</td>\n",
       "    </tr>\n",
       "    <tr>\n",
       "      <th>Yes</th>\n",
       "      <td>0.411661</td>\n",
       "      <td>0.588339</td>\n",
       "    </tr>\n",
       "  </tbody>\n",
       "</table>\n",
       "</div>"
      ],
      "text/plain": [
       "churn_label          Yes        No\n",
       "senior_citizen                    \n",
       "No              0.230585  0.769415\n",
       "Yes             0.411661  0.588339"
      ]
     },
     "execution_count": 373,
     "metadata": {},
     "output_type": "execute_result"
    }
   ],
   "source": [
    "# Churn rate by senior citizen status\n",
    "churn_by_senior = df.groupby('senior_citizen')['churn_label'].value_counts(normalize=True).unstack().fillna(0)\n",
    "\n",
    "# Display churn rate by senior citizen status\n",
    "churn_by_senior[['Yes', 'No']]\n"
   ]
  },
  {
   "cell_type": "markdown",
   "metadata": {},
   "source": [
    "It's evident that senior citizens have a significantly higher churn rate compared to non-senior citizens."
   ]
  },
  {
   "cell_type": "code",
   "execution_count": 374,
   "metadata": {},
   "outputs": [
    {
     "data": {
      "text/html": [
       "<div>\n",
       "<style scoped>\n",
       "    .dataframe tbody tr th:only-of-type {\n",
       "        vertical-align: middle;\n",
       "    }\n",
       "\n",
       "    .dataframe tbody tr th {\n",
       "        vertical-align: top;\n",
       "    }\n",
       "\n",
       "    .dataframe thead th {\n",
       "        text-align: right;\n",
       "    }\n",
       "</style>\n",
       "<table border=\"1\" class=\"dataframe\">\n",
       "  <thead>\n",
       "    <tr style=\"text-align: right;\">\n",
       "      <th>churn_label</th>\n",
       "      <th>Yes</th>\n",
       "      <th>No</th>\n",
       "    </tr>\n",
       "    <tr>\n",
       "      <th>married</th>\n",
       "      <th></th>\n",
       "      <th></th>\n",
       "    </tr>\n",
       "  </thead>\n",
       "  <tbody>\n",
       "    <tr>\n",
       "      <th>No</th>\n",
       "      <td>0.323448</td>\n",
       "      <td>0.676552</td>\n",
       "    </tr>\n",
       "    <tr>\n",
       "      <th>Yes</th>\n",
       "      <td>0.192137</td>\n",
       "      <td>0.807863</td>\n",
       "    </tr>\n",
       "  </tbody>\n",
       "</table>\n",
       "</div>"
      ],
      "text/plain": [
       "churn_label       Yes        No\n",
       "married                        \n",
       "No           0.323448  0.676552\n",
       "Yes          0.192137  0.807863"
      ]
     },
     "execution_count": 374,
     "metadata": {},
     "output_type": "execute_result"
    }
   ],
   "source": [
    "# Churn rate by marital status\n",
    "churn_by_marital = df.groupby('married')['churn_label'].value_counts(normalize=True).unstack().fillna(0)\n",
    "\n",
    "# Display churn rate by marital status\n",
    "churn_by_marital[['Yes', 'No']]\n"
   ]
  },
  {
   "cell_type": "markdown",
   "metadata": {},
   "source": [
    "Customers who are not married have a noticeably higher churn rate compared to those who are married."
   ]
  },
  {
   "cell_type": "code",
   "execution_count": 375,
   "metadata": {},
   "outputs": [
    {
     "data": {
      "text/html": [
       "<div>\n",
       "<style scoped>\n",
       "    .dataframe tbody tr th:only-of-type {\n",
       "        vertical-align: middle;\n",
       "    }\n",
       "\n",
       "    .dataframe tbody tr th {\n",
       "        vertical-align: top;\n",
       "    }\n",
       "\n",
       "    .dataframe thead th {\n",
       "        text-align: right;\n",
       "    }\n",
       "</style>\n",
       "<table border=\"1\" class=\"dataframe\">\n",
       "  <thead>\n",
       "    <tr style=\"text-align: right;\">\n",
       "      <th>churn_label</th>\n",
       "      <th>Yes</th>\n",
       "      <th>No</th>\n",
       "    </tr>\n",
       "    <tr>\n",
       "      <th>num_dependents</th>\n",
       "      <th></th>\n",
       "      <th></th>\n",
       "    </tr>\n",
       "  </thead>\n",
       "  <tbody>\n",
       "    <tr>\n",
       "      <th>0</th>\n",
       "      <td>0.319613</td>\n",
       "      <td>0.680387</td>\n",
       "    </tr>\n",
       "    <tr>\n",
       "      <th>1</th>\n",
       "      <td>0.067029</td>\n",
       "      <td>0.932971</td>\n",
       "    </tr>\n",
       "    <tr>\n",
       "      <th>2</th>\n",
       "      <td>0.056818</td>\n",
       "      <td>0.943182</td>\n",
       "    </tr>\n",
       "    <tr>\n",
       "      <th>3</th>\n",
       "      <td>0.056202</td>\n",
       "      <td>0.943798</td>\n",
       "    </tr>\n",
       "    <tr>\n",
       "      <th>4</th>\n",
       "      <td>0.111111</td>\n",
       "      <td>0.888889</td>\n",
       "    </tr>\n",
       "    <tr>\n",
       "      <th>5</th>\n",
       "      <td>0.200000</td>\n",
       "      <td>0.800000</td>\n",
       "    </tr>\n",
       "    <tr>\n",
       "      <th>6</th>\n",
       "      <td>0.333333</td>\n",
       "      <td>0.666667</td>\n",
       "    </tr>\n",
       "    <tr>\n",
       "      <th>7</th>\n",
       "      <td>0.500000</td>\n",
       "      <td>0.500000</td>\n",
       "    </tr>\n",
       "    <tr>\n",
       "      <th>8</th>\n",
       "      <td>0.000000</td>\n",
       "      <td>1.000000</td>\n",
       "    </tr>\n",
       "    <tr>\n",
       "      <th>9</th>\n",
       "      <td>0.000000</td>\n",
       "      <td>1.000000</td>\n",
       "    </tr>\n",
       "  </tbody>\n",
       "</table>\n",
       "</div>"
      ],
      "text/plain": [
       "churn_label          Yes        No\n",
       "num_dependents                    \n",
       "0               0.319613  0.680387\n",
       "1               0.067029  0.932971\n",
       "2               0.056818  0.943182\n",
       "3               0.056202  0.943798\n",
       "4               0.111111  0.888889\n",
       "5               0.200000  0.800000\n",
       "6               0.333333  0.666667\n",
       "7               0.500000  0.500000\n",
       "8               0.000000  1.000000\n",
       "9               0.000000  1.000000"
      ]
     },
     "execution_count": 375,
     "metadata": {},
     "output_type": "execute_result"
    }
   ],
   "source": [
    "# Churn rate by number of dependents\n",
    "churn_by_dependents = df.groupby('num_dependents')['churn_label'].value_counts(normalize=True).unstack().fillna(0)\n",
    "\n",
    "# Display churn rate by number of dependents\n",
    "churn_by_dependents[['Yes', 'No']]\n"
   ]
  },
  {
   "cell_type": "markdown",
   "metadata": {},
   "source": [
    "It appears that customers with 1 to 3 dependents have significantly lower churn rates. The churn rate then increases with 4 to 7 dependents. However, it's worth noting that the sample size for customers with a high number of dependents might be small, which could influence these results."
   ]
  },
  {
   "cell_type": "code",
   "execution_count": 376,
   "metadata": {},
   "outputs": [
    {
     "data": {
      "image/png": "[encoded data removed]",
      "text/plain": [
       "<Figure size 1000x1500 with 6 Axes>"
      ]
     },
     "metadata": {},
     "output_type": "display_data"
    }
   ],
   "source": [
    "import matplotlib.pyplot as plt\n",
    "import seaborn as sns\n",
    "\n",
    "# List of categorical features to examine\n",
    "features_to_examine = ['gender', 'senior_citizen', 'married', 'stream_tv', 'stream_movie', 'stream_music']\n",
    "\n",
    "# Set up the figure and axes\n",
    "fig, axs = plt.subplots(nrows=len(features_to_examine), figsize=(10, 15))\n",
    "\n",
    "for i, feature in enumerate(features_to_examine):\n",
    "    sns.countplot(data=df, x=feature, hue='churn_label', ax=axs[i])\n",
    "    axs[i].set_title(f'Distribution of Churn by {feature}')\n",
    "    axs[i].set_ylabel('Count')\n",
    "    axs[i].legend(title='Churn')\n",
    "\n",
    "# Adjust layout\n",
    "plt.tight_layout()\n",
    "plt.show()\n"
   ]
  },
  {
   "cell_type": "markdown",
   "metadata": {},
   "source": [
    "Here are some observations from the visualizations:\n",
    "\n",
    "Gender: The churn rate seems fairly balanced between males and females.\n",
    "Senior Citizen: Non-senior citizens have a higher count, but senior citizens seem to have a slightly higher churn rate compared to their overall count.\n",
    "Married: Customers who are not married have a relatively higher churn rate than those who are married.|\n",
    "Stream TV: Customers who do not stream TV have a higher churn rate compared to those who do.\n",
    "Stream Movie: Similar to streaming TV, customers who do not stream movies tend to churn more.\n",
    "Stream Music: The churn pattern is relatively similar for both categories."
   ]
  },
  {
   "cell_type": "markdown",
   "metadata": {},
   "source": [
    "# 3. Feature Engineering"
   ]
  },
  {
   "cell_type": "code",
   "execution_count": 377,
   "metadata": {},
   "outputs": [
    {
     "data": {
      "text/plain": [
       "churn_label         52\n",
       "churn_category    5174\n",
       "churn_reason      5174\n",
       "internet_type     1526\n",
       "dtype: int64"
      ]
     },
     "execution_count": 377,
     "metadata": {},
     "output_type": "execute_result"
    }
   ],
   "source": [
    "# Check for missing values in the dataset\n",
    "missing_values = df.isnull().sum()\n",
    "\n",
    "# Filter out columns with missing values\n",
    "missing_values = missing_values[missing_values > 0]\n",
    "\n",
    "missing_values\n"
   ]
  },
  {
   "cell_type": "code",
   "execution_count": 378,
   "metadata": {},
   "outputs": [],
   "source": [
    "# Create a copy of the df.\n",
    "data = df"
   ]
  },
  {
   "cell_type": "code",
   "execution_count": 379,
   "metadata": {},
   "outputs": [],
   "source": [
    "# Cleaning the data and column\n",
    "\n",
    "# Remove rows with missing churn_label values\n",
    "data = data.dropna(subset=['churn_label'])\n",
    "\n",
    "# Drop the churn_category and churn_reason columns\n",
    "data = data.drop(columns=['churn_category', 'churn_reason','account_id','customer_id','age_group','status','zip_code','area_id','population','city','has_phone_service','total_refunds',\\\n",
    "                        'has_internet_service','stream_tv','has_device_protection','has_multiple_lines','has_unlimited_data','stream_movie','gender','has_online_backup','senior_citizen',\\\n",
    "                        'has_online_security','total_charges_quarter'])"
   ]
  },
  {
   "cell_type": "code",
   "execution_count": 380,
   "metadata": {},
   "outputs": [
    {
     "data": {
      "text/plain": [
       "{'contract_type': array(['Month-to-Month', 'Two Year', 'One Year'], dtype=object),\n",
       " 'num_referrals': array([ 3,  8,  0,  9,  1, 10,  5,  4,  2,  7,  6, 11], dtype=int64),\n",
       " 'total_monthly_fee': array([ 83.9 ,  84.65,  90.45, ...,  72.2 ,  39.95, 110.7 ]),\n",
       " 'num_dependents': array([0, 1, 2, 3, 6, 5, 4, 7, 9, 8], dtype=int64),\n",
       " 'age': array([75, 52, 43, 32, 39, 58, 79, 30, 37, 23, 48, 28, 60, 20, 19, 64, 54,\n",
       "        50, 25, 72, 51, 66, 71, 49, 61, 40, 29, 62, 42, 55, 76, 57, 24, 77,\n",
       "        56, 73, 59, 22, 33, 53, 38, 35, 44, 80, 45, 41, 63, 46, 21, 70, 47,\n",
       "        34, 74, 27, 36, 26, 67, 68, 31, 78, 69, 65], dtype=int64),\n",
       " 'tenure_months': array([ 3, 63, 65, 72, 56, 71, 50, 23, 55, 37, 49, 66, 67, 59, 27, 14,  1,\n",
       "        29, 64, 40, 30, 70, 32, 16,  7, 61, 15,  2, 44, 12, 47, 58,  9, 46,\n",
       "        35, 52, 11,  6,  8, 68, 36, 22, 20, 54, 60, 25, 62, 41, 53, 48, 13,\n",
       "        10, 45, 57,  5, 28, 18, 24, 38,  4, 21, 34, 69, 43, 42, 17, 33, 39,\n",
       "        26, 51, 31, 19], dtype=int64),\n",
       " 'avg_gb_download_monthly': array([11,  7, 14, 16, 19, 12,  0, 30, 57, 51, 41, 59, 52,  9, 17, 69, 23,\n",
       "        15, 28, 10, 29, 26,  8,  6,  4, 13, 20, 21, 73, 25, 18, 53,  2, 22,\n",
       "        24, 27, 82, 71, 48, 47, 85,  5,  3, 58, 56, 76, 42, 46, 75, 39],\n",
       "       dtype=int64),\n",
       " 'total_long_distance_fee': array([  22.14,  816.48, 1849.9 , ...,   95.29,  615.78,   37.24]),\n",
       " 'avg_long_distance_fee_monthly': array([ 7.38, 12.96, 28.46, ..., 34.33,  7.33, 34.21]),\n",
       " 'internet_type': array(['Fiber Optic', 'Cable', 'DSL', nan], dtype=object),\n",
       " 'payment_method': array(['Credit Card', 'Bank Withdrawal', 'Mailed Check'], dtype=object),\n",
       " 'stream_music': array(['No', 'Yes'], dtype=object),\n",
       " 'paperless_billing': array(['Yes', 'No'], dtype=object),\n",
       " 'married': array(['Yes', 'No'], dtype=object),\n",
       " 'has_premium_tech_support': array(['Yes', 'No'], dtype=object)}"
      ]
     },
     "execution_count": 380,
     "metadata": {},
     "output_type": "execute_result"
    }
   ],
   "source": [
    "# Get unique values for remaining features.\n",
    "features = [\n",
    "    \"contract_type\", \"num_referrals\", \"total_monthly_fee\", \"num_dependents\", \"age\",\n",
    "    \"tenure_months\", \"avg_gb_download_monthly\", \n",
    "    \"total_long_distance_fee\", \"avg_long_distance_fee_monthly\", \"internet_type\",\n",
    "    \"payment_method\", \"stream_music\", \"paperless_billing\", \"married\", \n",
    "    \"has_premium_tech_support\"\n",
    "]\n",
    "\n",
    "# Extract unique values for each feature\n",
    "unique_values = {feature: data[feature].unique() for feature in features}\n",
    "unique_values"
   ]
  },
  {
   "cell_type": "code",
   "execution_count": 381,
   "metadata": {},
   "outputs": [
    {
     "name": "stdout",
     "output_type": "stream",
     "text": [
      "churn_label                       object\n",
      "age                                int64\n",
      "married                           object\n",
      "num_dependents                     int64\n",
      "tenure_months                      int64\n",
      "num_referrals                      int64\n",
      "internet_type                     object\n",
      "has_premium_tech_support          object\n",
      "contract_type                     object\n",
      "paperless_billing                 object\n",
      "payment_method                    object\n",
      "avg_long_distance_fee_monthly    float64\n",
      "total_long_distance_fee          float64\n",
      "avg_gb_download_monthly            int64\n",
      "stream_music                      object\n",
      "total_monthly_fee                float64\n",
      "dtype: object\n"
     ]
    }
   ],
   "source": [
    "print(data.dtypes)\n"
   ]
  },
  {
   "cell_type": "code",
   "execution_count": 382,
   "metadata": {},
   "outputs": [
    {
     "name": "stdout",
     "output_type": "stream",
     "text": [
      "['Yes' 'No']\n"
     ]
    }
   ],
   "source": [
    "unique_values = data['churn_label'].unique()\n",
    "print(unique_values)\n"
   ]
  },
  {
   "cell_type": "code",
   "execution_count": 383,
   "metadata": {},
   "outputs": [
    {
     "data": {
      "text/html": [
       "<div>\n",
       "<style scoped>\n",
       "    .dataframe tbody tr th:only-of-type {\n",
       "        vertical-align: middle;\n",
       "    }\n",
       "\n",
       "    .dataframe tbody tr th {\n",
       "        vertical-align: top;\n",
       "    }\n",
       "\n",
       "    .dataframe thead th {\n",
       "        text-align: right;\n",
       "    }\n",
       "</style>\n",
       "<table border=\"1\" class=\"dataframe\">\n",
       "  <thead>\n",
       "    <tr style=\"text-align: right;\">\n",
       "      <th></th>\n",
       "      <th>churn_label</th>\n",
       "      <th>age</th>\n",
       "      <th>married</th>\n",
       "      <th>num_dependents</th>\n",
       "      <th>tenure_months</th>\n",
       "      <th>num_referrals</th>\n",
       "      <th>internet_type</th>\n",
       "      <th>has_premium_tech_support</th>\n",
       "      <th>contract_type</th>\n",
       "      <th>paperless_billing</th>\n",
       "      <th>payment_method</th>\n",
       "      <th>avg_long_distance_fee_monthly</th>\n",
       "      <th>total_long_distance_fee</th>\n",
       "      <th>avg_gb_download_monthly</th>\n",
       "      <th>stream_music</th>\n",
       "      <th>total_monthly_fee</th>\n",
       "    </tr>\n",
       "  </thead>\n",
       "  <tbody>\n",
       "    <tr>\n",
       "      <th>0</th>\n",
       "      <td>1</td>\n",
       "      <td>1.702180</td>\n",
       "      <td>1</td>\n",
       "      <td>-0.488063</td>\n",
       "      <td>-1.201488</td>\n",
       "      <td>0.345262</td>\n",
       "      <td>2</td>\n",
       "      <td>1</td>\n",
       "      <td>0</td>\n",
       "      <td>1</td>\n",
       "      <td>1</td>\n",
       "      <td>-1.008082</td>\n",
       "      <td>-0.860250</td>\n",
       "      <td>-0.466493</td>\n",
       "      <td>0</td>\n",
       "      <td>0.638213</td>\n",
       "    </tr>\n",
       "    <tr>\n",
       "      <th>1</th>\n",
       "      <td>0</td>\n",
       "      <td>0.329032</td>\n",
       "      <td>1</td>\n",
       "      <td>-0.488063</td>\n",
       "      <td>1.242649</td>\n",
       "      <td>2.007606</td>\n",
       "      <td>2</td>\n",
       "      <td>1</td>\n",
       "      <td>2</td>\n",
       "      <td>1</td>\n",
       "      <td>1</td>\n",
       "      <td>-0.646920</td>\n",
       "      <td>0.076466</td>\n",
       "      <td>-0.662240</td>\n",
       "      <td>0</td>\n",
       "      <td>0.663112</td>\n",
       "    </tr>\n",
       "    <tr>\n",
       "      <th>2</th>\n",
       "      <td>0</td>\n",
       "      <td>-0.208287</td>\n",
       "      <td>1</td>\n",
       "      <td>0.548718</td>\n",
       "      <td>1.324121</td>\n",
       "      <td>0.345262</td>\n",
       "      <td>0</td>\n",
       "      <td>1</td>\n",
       "      <td>2</td>\n",
       "      <td>1</td>\n",
       "      <td>1</td>\n",
       "      <td>0.356308</td>\n",
       "      <td>1.295115</td>\n",
       "      <td>-0.319682</td>\n",
       "      <td>1</td>\n",
       "      <td>0.855662</td>\n",
       "    </tr>\n",
       "    <tr>\n",
       "      <th>3</th>\n",
       "      <td>0</td>\n",
       "      <td>-0.865010</td>\n",
       "      <td>0</td>\n",
       "      <td>-0.488063</td>\n",
       "      <td>1.609270</td>\n",
       "      <td>-0.652145</td>\n",
       "      <td>2</td>\n",
       "      <td>0</td>\n",
       "      <td>2</td>\n",
       "      <td>1</td>\n",
       "      <td>0</td>\n",
       "      <td>-1.340118</td>\n",
       "      <td>-0.695321</td>\n",
       "      <td>-0.221808</td>\n",
       "      <td>0</td>\n",
       "      <td>1.215864</td>\n",
       "    </tr>\n",
       "    <tr>\n",
       "      <th>4</th>\n",
       "      <td>0</td>\n",
       "      <td>-0.447095</td>\n",
       "      <td>0</td>\n",
       "      <td>-0.488063</td>\n",
       "      <td>0.957500</td>\n",
       "      <td>-0.652145</td>\n",
       "      <td>1</td>\n",
       "      <td>1</td>\n",
       "      <td>2</td>\n",
       "      <td>0</td>\n",
       "      <td>0</td>\n",
       "      <td>-1.485748</td>\n",
       "      <td>-0.886358</td>\n",
       "      <td>-0.074998</td>\n",
       "      <td>0</td>\n",
       "      <td>-0.651540</td>\n",
       "    </tr>\n",
       "  </tbody>\n",
       "</table>\n",
       "</div>"
      ],
      "text/plain": [
       "   churn_label       age  married  num_dependents  tenure_months  \\\n",
       "0            1  1.702180        1       -0.488063      -1.201488   \n",
       "1            0  0.329032        1       -0.488063       1.242649   \n",
       "2            0 -0.208287        1        0.548718       1.324121   \n",
       "3            0 -0.865010        0       -0.488063       1.609270   \n",
       "4            0 -0.447095        0       -0.488063       0.957500   \n",
       "\n",
       "   num_referrals  internet_type  has_premium_tech_support  contract_type  \\\n",
       "0       0.345262              2                         1              0   \n",
       "1       2.007606              2                         1              2   \n",
       "2       0.345262              0                         1              2   \n",
       "3      -0.652145              2                         0              2   \n",
       "4      -0.652145              1                         1              2   \n",
       "\n",
       "   paperless_billing  payment_method  avg_long_distance_fee_monthly  \\\n",
       "0                  1               1                      -1.008082   \n",
       "1                  1               1                      -0.646920   \n",
       "2                  1               1                       0.356308   \n",
       "3                  1               0                      -1.340118   \n",
       "4                  0               0                      -1.485748   \n",
       "\n",
       "   total_long_distance_fee  avg_gb_download_monthly  stream_music  \\\n",
       "0                -0.860250                -0.466493             0   \n",
       "1                 0.076466                -0.662240             0   \n",
       "2                 1.295115                -0.319682             1   \n",
       "3                -0.695321                -0.221808             0   \n",
       "4                -0.886358                -0.074998             0   \n",
       "\n",
       "   total_monthly_fee  \n",
       "0           0.638213  \n",
       "1           0.663112  \n",
       "2           0.855662  \n",
       "3           1.215864  \n",
       "4          -0.651540  "
      ]
     },
     "execution_count": 383,
     "metadata": {},
     "output_type": "execute_result"
    }
   ],
   "source": [
    "from sklearn.preprocessing import StandardScaler, LabelEncoder\n",
    "\n",
    "# Encode categorical variables\n",
    "label_encoders = {}\n",
    "for column in data.select_dtypes(include=['object']).columns:\n",
    "    if column != 'churn_label':  # We'll handle the target variable separately\n",
    "        le = LabelEncoder()\n",
    "        data[column] = le.fit_transform(data[column])\n",
    "        label_encoders[column] = le\n",
    "\n",
    "# Encode the target variable\n",
    "target_encoder = LabelEncoder()\n",
    "data['churn_label'] = target_encoder.fit_transform(data['churn_label'])\n",
    "\n",
    "# Scale numerical features\n",
    "numerical_features = data.select_dtypes(include=['int64', 'float64']).columns.tolist()\n",
    "if 'churn_label' in numerical_features:\n",
    "    numerical_features.remove('churn_label') #numerical_features.remove('churn_label')  # Remove target variable from scaling\n",
    "\n",
    "scaler = StandardScaler()\n",
    "data[numerical_features] = scaler.fit_transform(data[numerical_features])\n",
    "\n",
    "# Show the preprocessed data\n",
    "data.head()\n"
   ]
  },
  {
   "cell_type": "markdown",
   "metadata": {},
   "source": [
    "# 4. Experimentation Modelling"
   ]
  },
  {
   "cell_type": "markdown",
   "metadata": {},
   "source": [
    "## Logistic Regression"
   ]
  },
  {
   "cell_type": "code",
   "execution_count": 384,
   "metadata": {},
   "outputs": [
    {
     "name": "stdout",
     "output_type": "stream",
     "text": [
      "The AUC is 0.890006233450721\n",
      "The accuracy is 0.8427448177269479\n",
      "              precision    recall  f1-score   support\n",
      "\n",
      "           0       0.89      0.90      0.89      1037\n",
      "           1       0.71      0.67      0.69       362\n",
      "\n",
      "    accuracy                           0.84      1399\n",
      "   macro avg       0.80      0.79      0.79      1399\n",
      "weighted avg       0.84      0.84      0.84      1399\n",
      "\n",
      "[[935 102]\n",
      " [118 244]]\n"
     ]
    }
   ],
   "source": [
    "from sklearn.model_selection import train_test_split\n",
    "from sklearn.linear_model import LogisticRegression\n",
    "from sklearn.metrics import classification_report, accuracy_score, confusion_matrix, roc_auc_score\n",
    "\n",
    "# Split the data into training and testing sets\n",
    "X = data.drop(columns=['churn_label'])  # Drop non-informative columns\n",
    "y = data['churn_label']\n",
    "X_train, X_test, y_train, y_test = train_test_split(X, y, test_size=0.2, random_state=42)\n",
    "\n",
    "# Train a Logistic Regression model\n",
    "clf = LogisticRegression(max_iter=1000)\n",
    "clf.fit(X_train, y_train)\n",
    "\n",
    "\n",
    "# Predict on the testing set\n",
    "y_pred = clf.predict(X_test)\n",
    "\n",
    "# Evaluate the model\n",
    "accuracy = accuracy_score(y_test, y_pred)\n",
    "confusion = confusion_matrix(y_test, y_pred)\n",
    "classification_rep = classification_report(y_test, y_pred)\n",
    "\n",
    "# Calculate the probability scores of each of the datapoints\n",
    "y_score = clf.predict_proba(X_test)[:,1]\n",
    "\n",
    "# Calculate AUC\n",
    "auc = roc_auc_score(y_test, y_score)\n",
    "\n",
    "print(f\"The AUC is {auc}\")\n",
    "print(f\"The accuracy is {accuracy}\")\n",
    "print(classification_rep)\n",
    "print(confusion)\n"
   ]
  },
  {
   "cell_type": "markdown",
   "metadata": {},
   "source": [
    "## Catboost"
   ]
  },
  {
   "cell_type": "code",
   "execution_count": 385,
   "metadata": {},
   "outputs": [
    {
     "data": {
      "text/plain": [
       "Index(['age', 'married', 'num_dependents', 'tenure_months', 'num_referrals',\n",
       "       'internet_type', 'has_premium_tech_support', 'contract_type',\n",
       "       'paperless_billing', 'payment_method', 'avg_long_distance_fee_monthly',\n",
       "       'total_long_distance_fee', 'avg_gb_download_monthly', 'stream_music',\n",
       "       'total_monthly_fee'],\n",
       "      dtype='object')"
      ]
     },
     "execution_count": 385,
     "metadata": {},
     "output_type": "execute_result"
    }
   ],
   "source": [
    "X_train.columns"
   ]
  },
  {
   "cell_type": "code",
   "execution_count": 386,
   "metadata": {},
   "outputs": [
    {
     "name": "stdout",
     "output_type": "stream",
     "text": [
      "The AUC is 0.890006233450721\n",
      "The accuracy is 0.8548963545389564\n",
      "              precision    recall  f1-score   support\n",
      "\n",
      "           0       0.89      0.92      0.90      1037\n",
      "           1       0.74      0.67      0.70       362\n",
      "\n",
      "    accuracy                           0.85      1399\n",
      "   macro avg       0.82      0.79      0.80      1399\n",
      "weighted avg       0.85      0.85      0.85      1399\n",
      "\n"
     ]
    }
   ],
   "source": [
    "from catboost import CatBoostClassifier\n",
    "\n",
    "# Initialize CatBoostClassifier\n",
    "model = CatBoostClassifier(verbose=0, random_seed=42)\n",
    "\n",
    "# Train the model\n",
    "model.fit(X_train, y_train)\n",
    "\n",
    "# Predict on the test set\n",
    "y_pred = model.predict(X_test)\n",
    "\n",
    "# Evaluate the model's performance\n",
    "from sklearn.metrics import accuracy_score, classification_report\n",
    "\n",
    "accuracy = accuracy_score(y_test, y_pred)\n",
    "classification_rep = classification_report(y_test, y_pred)\n",
    "\n",
    "# Calculate the probability scores of each of the datapoints\n",
    "y_score = clf.predict_proba(X_test)[:,1]\n",
    "\n",
    "# Calculate AUC\n",
    "auc = roc_auc_score(y_test, y_score)\n",
    "\n",
    "print(f\"The AUC is {auc}\")\n",
    "print(f\"The accuracy is {accuracy}\")\n",
    "print(classification_rep)"
   ]
  },
  {
   "cell_type": "markdown",
   "metadata": {},
   "source": [
    "## Feature Imoprtance"
   ]
  },
  {
   "cell_type": "markdown",
   "metadata": {},
   "source": [
    "This code block has been repeated. Any column where feature importance less than 1 is removed."
   ]
  },
  {
   "cell_type": "code",
   "execution_count": 387,
   "metadata": {},
   "outputs": [
    {
     "name": "stdout",
     "output_type": "stream",
     "text": [
      "                          Feature  Importance\n",
      "7                   contract_type   15.543993\n",
      "4                   num_referrals   14.463525\n",
      "14              total_monthly_fee   10.701190\n",
      "2                  num_dependents    9.668846\n",
      "3                   tenure_months    9.585692\n",
      "0                             age    8.775508\n",
      "11        total_long_distance_fee    5.732139\n",
      "12        avg_gb_download_monthly    5.684544\n",
      "10  avg_long_distance_fee_monthly    5.607865\n",
      "5                   internet_type    3.375832\n",
      "9                  payment_method    3.297996\n",
      "13                   stream_music    2.484118\n",
      "6        has_premium_tech_support    1.840713\n",
      "8               paperless_billing    1.793292\n",
      "1                         married    1.444746\n"
     ]
    },
    {
     "data": {
      "image/png": "[encoded data removed]",
      "text/plain": [
       "<Figure size 700x500 with 1 Axes>"
      ]
     },
     "metadata": {},
     "output_type": "display_data"
    }
   ],
   "source": [
    "# 2. Extract feature importance\n",
    "feature_importances = model.get_feature_importance()\n",
    "feature_names = X_train.columns\n",
    "\n",
    "# Create a DataFrame for the importances and sort by importance\n",
    "importance_df = pd.DataFrame({\n",
    "    'Feature': feature_names,\n",
    "    'Importance': feature_importances\n",
    "}).sort_values(by='Importance', ascending=False)\n",
    "\n",
    "print(importance_df)\n",
    "\n",
    "# 3. (Optional) Visualize the feature importance\n",
    "plt.figure(figsize=(7, 5))\n",
    "plt.barh(importance_df['Feature'], importance_df['Importance'])\n",
    "plt.xlabel('Importance')\n",
    "plt.ylabel('Feature')\n",
    "plt.title('Feature Importance')\n",
    "plt.gca().invert_yaxis()  # Highest importance at the top\n",
    "plt.show()"
   ]
  },
  {
   "cell_type": "markdown",
   "metadata": {},
   "source": [
    "# 5. Hyperparameter Tuning."
   ]
  },
  {
   "cell_type": "code",
   "execution_count": 388,
   "metadata": {},
   "outputs": [
    {
     "name": "stdout",
     "output_type": "stream",
     "text": [
      "Fitting 5 folds for each of 64 candidates, totalling 320 fits\n",
      "The best parameter is {'C': 1, 'l1_ratio': 0.5, 'penalty': 'elasticnet', 'solver': 'saga'}\n",
      "CPU times: total: 609 ms\n",
      "Wall time: 1.31 s\n"
     ]
    }
   ],
   "source": [
    "%%time\n",
    "\n",
    "from sklearn.model_selection import GridSearchCV\n",
    "\n",
    "# Define hyperparameters and their possible values\n",
    "param_grid = [\n",
    "    {'penalty': ['l1'], 'solver': ['liblinear', 'saga'], 'C': [0.001, 0.01, 0.1, 1, 10, 100]},\n",
    "    {'penalty': ['l2'], 'solver': ['newton-cg', 'lbfgs', 'liblinear', 'sag', 'saga'], 'C': [0.001, 0.01, 0.1, 1, 10, 100]},\n",
    "    {'penalty': ['elasticnet'], 'solver': ['saga'], 'C': [0.001, 0.01, 0.1, 1, 10, 100], 'l1_ratio': [0.2, 0.5, 0.8]},\n",
    "    {'penalty': ['none'], 'solver': ['newton-cg', 'lbfgs', 'sag', 'saga']}\n",
    "]\n",
    "grid_search = GridSearchCV(LogisticRegression(max_iter=1000), param_grid, cv=5, verbose=1, n_jobs=-1)\n",
    "grid_search.fit(X_train, y_train)\n",
    "best_params = grid_search.best_params_\n",
    "\n",
    "print(f\"The best parameter is {best_params}\")\n",
    "\n"
   ]
  },
  {
   "cell_type": "code",
   "execution_count": 389,
   "metadata": {},
   "outputs": [
    {
     "name": "stdout",
     "output_type": "stream",
     "text": [
      "CPU times: total: 547 ms\n",
      "Wall time: 14.7 s\n"
     ]
    },
    {
     "data": {
      "text/plain": [
       "{'learning_rate': 0.1,\n",
       " 'l2_leaf_reg': 10.0,\n",
       " 'iterations': 200,\n",
       " 'depth': 5,\n",
       " 'border_count': 32}"
      ]
     },
     "execution_count": 389,
     "metadata": {},
     "output_type": "execute_result"
    }
   ],
   "source": [
    "%%time\n",
    "\n",
    "from sklearn.model_selection import RandomizedSearchCV\n",
    "import numpy as np\n",
    "\n",
    "# Define the hyperparameters and their distributions\n",
    "param_dist = {\n",
    "    'learning_rate': np.logspace(-3, 0, 10),\n",
    "    'depth': [4, 5, 6, 7, 8, 9, 10],\n",
    "    'l2_leaf_reg': np.logspace(-3, 3, 7),\n",
    "    'iterations': [100, 200, 300, 400, 500],\n",
    "    'border_count': [32, 64, 128, 255]\n",
    "}\n",
    "\n",
    "# Set up the RandomizedSearchCV\n",
    "random_search = RandomizedSearchCV(\n",
    "    CatBoostClassifier(random_seed=42, verbose=0),\n",
    "    param_distributions=param_dist,\n",
    "    n_iter=10,  # Number of parameter settings that are sampled\n",
    "    scoring='accuracy',\n",
    "    cv=5,\n",
    "    n_jobs=-1,  # Use all CPU cores\n",
    "    random_state=42\n",
    ")\n",
    "\n",
    "# Fit the RandomizedSearchCV object to the data\n",
    "random_search.fit(X_train, y_train)\n",
    "\n",
    "# Extract the best hyperparameters\n",
    "best_params = random_search.best_params_\n",
    "\n",
    "best_params\n"
   ]
  },
  {
   "cell_type": "code",
   "execution_count": 390,
   "metadata": {},
   "outputs": [
    {
     "name": "stdout",
     "output_type": "stream",
     "text": [
      "The AUC is 0.890006233450721\n",
      "The accuracy is 0.854181558255897\n",
      "              precision    recall  f1-score   support\n",
      "\n",
      "           0       0.89      0.92      0.90      1037\n",
      "           1       0.74      0.68      0.71       362\n",
      "\n",
      "    accuracy                           0.85      1399\n",
      "   macro avg       0.81      0.80      0.80      1399\n",
      "weighted avg       0.85      0.85      0.85      1399\n",
      "\n"
     ]
    }
   ],
   "source": [
    "#from sklearn.metrics import accuracy_score, confusion_matrix, classification_report\n",
    "\n",
    "# Train a Logistic Regression model with the best parameters\n",
    "best_clf = CatBoostClassifier(**best_params,verbose=0, random_seed=42)\n",
    "best_clf.fit(X_train, y_train)\n",
    "\n",
    "# Predict on the testing set\n",
    "y_pred_best = best_clf.predict(X_test)\n",
    "\n",
    "# Evaluate the model\n",
    "accuracy_best = accuracy_score(y_test, y_pred_best)\n",
    "confusion_best = confusion_matrix(y_test, y_pred_best)\n",
    "classification_rep_best = classification_report(y_test, y_pred_best)\n",
    "\n",
    "# Calculate the probability scores of each of the datapoints\n",
    "y_score = clf.predict_proba(X_test)[:,1]\n",
    "\n",
    "# Calculate AUC\n",
    "auc = roc_auc_score(y_test, y_score)\n",
    "\n",
    "print(f\"The AUC is {auc}\")\n",
    "print(f\"The accuracy is {accuracy_best}\")\n",
    "print(classification_rep_best)\n"
   ]
  },
  {
   "cell_type": "markdown",
   "metadata": {},
   "source": [
    "# 6. Exporting Pickle file."
   ]
  },
  {
   "cell_type": "code",
   "execution_count": 391,
   "metadata": {},
   "outputs": [],
   "source": [
    "import pickle\n",
    "directory = \"../model/\"\n",
    "\n",
    "\n",
    "pickle.dump(best_clf, open(os.path.join(directory, 'best_clf.pkl'), 'wb'))"
   ]
  }
 ],
 "metadata": {
  "kernelspec": {
   "display_name": "Python 3 (ipykernel)",
   "language": "python",
   "name": "python3"
  },
  "language_info": {
   "codemirror_mode": {
    "name": "ipython",
    "version": 3
   },
   "file_extension": ".py",
   "mimetype": "text/x-python",
   "name": "python",
   "nbconvert_exporter": "python",
   "pygments_lexer": "ipython3",
   "version": "3.8.0"
  }
 },
 "nbformat": 4,
 "nbformat_minor": 4
}
